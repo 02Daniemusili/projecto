{
  "nbformat": 4,
  "nbformat_minor": 0,
  "metadata": {
    "colab": {
      "name": "Copy of Python Data Cleaning: Basics",
      "provenance": [],
      "collapsed_sections": [],
      "toc_visible": true,
      "include_colab_link": true
    },
    "kernelspec": {
      "name": "python3",
      "display_name": "Python 3"
    }
  },
  "cells": [
    {
      "cell_type": "markdown",
      "metadata": {
        "id": "view-in-github",
        "colab_type": "text"
      },
      "source": [
        "<a href=\"https://colab.research.google.com/github/12345997/projecto/blob/main/Copy_of_Python_Data_Cleaning_Basics.ipynb\" target=\"_parent\"><img src=\"https://colab.research.google.com/assets/colab-badge.svg\" alt=\"Open In Colab\"/></a>"
      ]
    },
    {
      "cell_type": "markdown",
      "metadata": {
        "id": "zERjtLoSL1js"
      },
      "source": [
        "<font color=\"green\">*To start working on this notebook, or any other notebook that we will use in the Moringa Data Science Course, we will need to save our own copy of it. We can do this by clicking File > Save a Copy in Drive. We will then be able to make edits to our own copy of this notebook.*</font>"
      ]
    },
    {
      "cell_type": "markdown",
      "metadata": {
        "id": "pZLONleTl2Ky"
      },
      "source": [
        "# Python Data Cleaning: Basics"
      ]
    },
    {
      "cell_type": "markdown",
      "metadata": {
        "id": "tMorzwEdMnhX"
      },
      "source": [
        "## Step 1: Finding and counting missing data\n",
        "\n",
        "\n",
        "\n"
      ]
    },
    {
      "cell_type": "markdown",
      "metadata": {
        "id": "zCgWU_ioNjBT"
      },
      "source": [
        "Having known how missing values in a dataset are created, we will now get introduced to how we can work with such a dataset. The first step that we will perform is to find the missing values and know how many they are. \n",
        "\n"
      ]
    },
    {
      "cell_type": "code",
      "metadata": {
        "id": "gpIzM0fdLA7b",
        "colab": {
          "base_uri": "https://localhost:8080/"
        },
        "outputId": "905e2435-5e3f-49c1-afee-77a9defcd3b2"
      },
      "source": [
        "# We will first import our dataset that we will use for the examples. We will do this by first\n",
        "# Importing our pandas library \n",
        "import pandas as pd\n",
        "\n",
        "\n",
        "# then storing the url location of our dataset to the variable url\n",
        "url = 'http://bit.ly/TitanicDataset1'\n",
        "\n",
        "# We will read the dataset from above url and store the dataframe in the variable df\n",
        "df = pd.read_csv(url)\n",
        "print(df)"
      ],
      "execution_count": 1,
      "outputs": [
        {
          "output_type": "stream",
          "text": [
            "      pclass  survived  ...   body                        home.dest\n",
            "0        1.0       1.0  ...    NaN                     St Louis, MO\n",
            "1        1.0       1.0  ...    NaN  Montreal, PQ / Chesterville, ON\n",
            "2        1.0       0.0  ...    NaN  Montreal, PQ / Chesterville, ON\n",
            "3        1.0       0.0  ...  135.0  Montreal, PQ / Chesterville, ON\n",
            "4        1.0       0.0  ...    NaN  Montreal, PQ / Chesterville, ON\n",
            "...      ...       ...  ...    ...                              ...\n",
            "1305     3.0       0.0  ...    NaN                              NaN\n",
            "1306     3.0       0.0  ...  304.0                              NaN\n",
            "1307     3.0       0.0  ...    NaN                              NaN\n",
            "1308     3.0       0.0  ...    NaN                              NaN\n",
            "1309     NaN       NaN  ...    NaN                              NaN\n",
            "\n",
            "[1310 rows x 14 columns]\n"
          ],
          "name": "stdout"
        }
      ]
    },
    {
      "cell_type": "code",
      "metadata": {
        "id": "2z2oonHgg6gd",
        "colab": {
          "base_uri": "https://localhost:8080/",
          "height": 326
        },
        "outputId": "891af1d7-8030-45d6-ddf3-7a8e57d03071"
      },
      "source": [
        "# Challenge 1\n",
        "# In parallel to this, we will also be working with another dataset too. We will use it for practice.\n",
        "\n",
        "# Let's first store our url location just like we did above\n",
        "gov_dataset = 'http://bit.ly/GovProjectFinanceDataset1'\n",
        "\n",
        "# Then read the dataset from url and store it in our variable of choice\n",
        "# \n",
        "gov_dataset=pd.read_csv(gov_dataset)\n",
        "\n",
        "# And familiarize ourselves with the dataframe by viewing its first 5 rows\n",
        "# \n",
        "gov_dataset.head()"
      ],
      "execution_count": 2,
      "outputs": [
        {
          "output_type": "execute_result",
          "data": {
            "text/html": [
              "<div>\n",
              "<style scoped>\n",
              "    .dataframe tbody tr th:only-of-type {\n",
              "        vertical-align: middle;\n",
              "    }\n",
              "\n",
              "    .dataframe tbody tr th {\n",
              "        vertical-align: top;\n",
              "    }\n",
              "\n",
              "    .dataframe thead th {\n",
              "        text-align: right;\n",
              "    }\n",
              "</style>\n",
              "<table border=\"1\" class=\"dataframe\">\n",
              "  <thead>\n",
              "    <tr style=\"text-align: right;\">\n",
              "      <th></th>\n",
              "      <th>Implementing_Agency</th>\n",
              "      <th>Total_-_GOK_Budget_Est_KES</th>\n",
              "      <th>Total_-_Loan_Budget_Est_KES</th>\n",
              "      <th>Total_-_Grant_Budget_Est_KES</th>\n",
              "      <th>Total_Budget_Supported__by_Donors_KES</th>\n",
              "      <th>Total_2013/2014_Budget_KES</th>\n",
              "      <th>OBJECTID</th>\n",
              "    </tr>\n",
              "  </thead>\n",
              "  <tbody>\n",
              "    <tr>\n",
              "      <th>0</th>\n",
              "      <td>NaN</td>\n",
              "      <td>0.000000e+00</td>\n",
              "      <td>0</td>\n",
              "      <td>3524395000</td>\n",
              "      <td>3524395000</td>\n",
              "      <td>3524395000</td>\n",
              "      <td>0</td>\n",
              "    </tr>\n",
              "    <tr>\n",
              "      <th>1</th>\n",
              "      <td>MOEW&amp;NR  National Environment Management Auth...</td>\n",
              "      <td>0.000000e+00</td>\n",
              "      <td>0</td>\n",
              "      <td>300000000</td>\n",
              "      <td>300000000</td>\n",
              "      <td>300000000</td>\n",
              "      <td>1</td>\n",
              "    </tr>\n",
              "    <tr>\n",
              "      <th>2</th>\n",
              "      <td>Ministry of Agriculture, Livestock and Fisheries</td>\n",
              "      <td>2.306364e+09</td>\n",
              "      <td>23354779585</td>\n",
              "      <td>8732081258</td>\n",
              "      <td>32086860843</td>\n",
              "      <td>34393225231</td>\n",
              "      <td>2</td>\n",
              "    </tr>\n",
              "    <tr>\n",
              "      <th>3</th>\n",
              "      <td>The Presidency</td>\n",
              "      <td>NaN</td>\n",
              "      <td>0</td>\n",
              "      <td>0</td>\n",
              "      <td>0</td>\n",
              "      <td>0</td>\n",
              "      <td>3</td>\n",
              "    </tr>\n",
              "    <tr>\n",
              "      <th>4</th>\n",
              "      <td>MOAL&amp;F  Kenya  Plant Health Inspectorate Serv...</td>\n",
              "      <td>0.000000e+00</td>\n",
              "      <td>0</td>\n",
              "      <td>66916163</td>\n",
              "      <td>66916163</td>\n",
              "      <td>66916163</td>\n",
              "      <td>4</td>\n",
              "    </tr>\n",
              "  </tbody>\n",
              "</table>\n",
              "</div>"
            ],
            "text/plain": [
              "                                 Implementing_Agency  ...  OBJECTID\n",
              "0                                                NaN  ...         0\n",
              "1   MOEW&NR  National Environment Management Auth...  ...         1\n",
              "2   Ministry of Agriculture, Livestock and Fisheries  ...         2\n",
              "3                                     The Presidency  ...         3\n",
              "4   MOAL&F  Kenya  Plant Health Inspectorate Serv...  ...         4\n",
              "\n",
              "[5 rows x 7 columns]"
            ]
          },
          "metadata": {
            "tags": []
          },
          "execution_count": 2
        }
      ]
    },
    {
      "cell_type": "code",
      "metadata": {
        "id": "nHVATaZXNOO9",
        "colab": {
          "base_uri": "https://localhost:8080/"
        },
        "outputId": "4fb793b4-d966-47e0-9ba5-c69e4809e7b8"
      },
      "source": [
        "# We count the number of non - missing values in the df dataframe\n",
        "#\n",
        "df.count()"
      ],
      "execution_count": 3,
      "outputs": [
        {
          "output_type": "execute_result",
          "data": {
            "text/plain": [
              "pclass       1309\n",
              "survived     1309\n",
              "name         1309\n",
              "sex          1309\n",
              "age          1046\n",
              "sibsp        1309\n",
              "parch        1309\n",
              "ticket       1309\n",
              "fare         1308\n",
              "cabin         295\n",
              "embarked     1307\n",
              "boat          486\n",
              "body          121\n",
              "home.dest     745\n",
              "dtype: int64"
            ]
          },
          "metadata": {
            "tags": []
          },
          "execution_count": 3
        }
      ]
    },
    {
      "cell_type": "code",
      "metadata": {
        "id": "RMfbpsNXhSkb",
        "colab": {
          "base_uri": "https://localhost:8080/"
        },
        "outputId": "a675cdef-dc3b-435f-c501-18bf99be59a4"
      },
      "source": [
        "# Challenge 2: Government Project Dataset\n",
        "# We also count the number of non - missing values in the our government project dataset\n",
        "# \n",
        "gov_dataset.count()"
      ],
      "execution_count": 4,
      "outputs": [
        {
          "output_type": "execute_result",
          "data": {
            "text/plain": [
              "Implementing_Agency                      39\n",
              "Total_-_GOK_Budget_Est_KES               39\n",
              "Total_-_Loan_Budget_Est_KES              40\n",
              "Total_-_Grant_Budget_Est_KES             40\n",
              "Total_Budget_Supported__by_Donors_KES    40\n",
              "Total_2013/2014_Budget_KES               40\n",
              "OBJECTID                                 40\n",
              "dtype: int64"
            ]
          },
          "metadata": {
            "tags": []
          },
          "execution_count": 4
        }
      ]
    },
    {
      "cell_type": "code",
      "metadata": {
        "colab": {
          "base_uri": "https://localhost:8080/"
        },
        "id": "UDOPYS_rW1xl",
        "outputId": "afc7e63b-726e-4853-d17d-c48907446551"
      },
      "source": [
        "len(gov_dataset)"
      ],
      "execution_count": 5,
      "outputs": [
        {
          "output_type": "execute_result",
          "data": {
            "text/plain": [
              "40"
            ]
          },
          "metadata": {
            "tags": []
          },
          "execution_count": 5
        }
      ]
    },
    {
      "cell_type": "code",
      "metadata": {
        "id": "wsXs2IHFNnNa",
        "colab": {
          "base_uri": "https://localhost:8080/"
        },
        "outputId": "484f991f-3025-41b7-f312-38ae5b2a71ba"
      },
      "source": [
        "# A longer method can be to subtract the no. of non-missing rows from the total number \n",
        "# of rows in the dataframe in order to determine the no. of missing values as shown\n",
        "# \n",
        "num_rows = df.shape[0]\n",
        "num_missing = num_rows - df.count() \n",
        "num_missing"
      ],
      "execution_count": 6,
      "outputs": [
        {
          "output_type": "execute_result",
          "data": {
            "text/plain": [
              "pclass          1\n",
              "survived        1\n",
              "name            1\n",
              "sex             1\n",
              "age           264\n",
              "sibsp           1\n",
              "parch           1\n",
              "ticket          1\n",
              "fare            2\n",
              "cabin        1015\n",
              "embarked        3\n",
              "boat          824\n",
              "body         1189\n",
              "home.dest     565\n",
              "dtype: int64"
            ]
          },
          "metadata": {
            "tags": []
          },
          "execution_count": 6
        }
      ]
    },
    {
      "cell_type": "code",
      "metadata": {
        "id": "9TLCUeubhiAF",
        "colab": {
          "base_uri": "https://localhost:8080/"
        },
        "outputId": "22e3e813-1919-49ed-af7e-62bc600a284b"
      },
      "source": [
        "# Challenge 3: Government Project Dataset\n",
        "# We now also subtract the no. of non-missing rows from the total number of rows \n",
        "# to determine the no. of missing values in our government project dataset\n",
        "#\n",
        "numrows=len(gov_dataset)\n",
        "nummissing=numrows-gov_dataset.count()\n",
        "nummissing"
      ],
      "execution_count": 7,
      "outputs": [
        {
          "output_type": "execute_result",
          "data": {
            "text/plain": [
              "Implementing_Agency                      1\n",
              "Total_-_GOK_Budget_Est_KES               1\n",
              "Total_-_Loan_Budget_Est_KES              0\n",
              "Total_-_Grant_Budget_Est_KES             0\n",
              "Total_Budget_Supported__by_Donors_KES    0\n",
              "Total_2013/2014_Budget_KES               0\n",
              "OBJECTID                                 0\n",
              "dtype: int64"
            ]
          },
          "metadata": {
            "tags": []
          },
          "execution_count": 7
        }
      ]
    },
    {
      "cell_type": "code",
      "metadata": {
        "id": "XbjpjZs2ONOU",
        "colab": {
          "base_uri": "https://localhost:8080/"
        },
        "outputId": "6616f901-5e2f-447b-c08f-8608a0b0f67a"
      },
      "source": [
        "# Another method would also be to count the number of missing values in our dataframe,  \n",
        "# using the count_nonzero function from numpy - and including the isnull() method.\n",
        "\n",
        "# But before we do that, we would need import numpy,\n",
        "# \n",
        "import numpy as np\n",
        "\n",
        "\n",
        "# Then count those missing values in our dataframe\n",
        "#\n",
        "np.count_nonzero(df.isnull())"
      ],
      "execution_count": 8,
      "outputs": [
        {
          "output_type": "execute_result",
          "data": {
            "text/plain": [
              "3869"
            ]
          },
          "metadata": {
            "tags": []
          },
          "execution_count": 8
        }
      ]
    },
    {
      "cell_type": "code",
      "metadata": {
        "id": "xVsRCHychzr2",
        "colab": {
          "base_uri": "https://localhost:8080/"
        },
        "outputId": "cff809b9-388b-48f7-8d80-22c1f9008f11"
      },
      "source": [
        "# Challenge 4: Government Project Dataset\n",
        "# Let's just do what we did in our previous cell. We found out the number of missing values \n",
        "# in our dataset using the count_nonzero function from numpy \n",
        "#\n",
        "import numpy as np\n",
        "np.count_nonzero(gov_dataset.isnull())"
      ],
      "execution_count": 9,
      "outputs": [
        {
          "output_type": "execute_result",
          "data": {
            "text/plain": [
              "2"
            ]
          },
          "metadata": {
            "tags": []
          },
          "execution_count": 9
        }
      ]
    },
    {
      "cell_type": "code",
      "metadata": {
        "id": "mN8PrJR0Oqry",
        "colab": {
          "base_uri": "https://localhost:8080/"
        },
        "outputId": "e293ada2-a318-456a-b5b3-4162280ed504"
      },
      "source": [
        "# We could also count the number of missing values for a particular column by specifying \n",
        "# the column by still using the count_nonzero function from numpy \n",
        "# \n",
        "np.count_nonzero(df['body'].isnull())"
      ],
      "execution_count": 10,
      "outputs": [
        {
          "output_type": "execute_result",
          "data": {
            "text/plain": [
              "1189"
            ]
          },
          "metadata": {
            "tags": []
          },
          "execution_count": 10
        }
      ]
    },
    {
      "cell_type": "code",
      "metadata": {
        "id": "5gKt_D3KiTfB"
      },
      "source": [
        "# Challenge 5: Government Project Dataset\n",
        "# And again specify how many non-missing values we have in the column: Total_-_GOK_Budget_Est_KES\t\n",
        "#\n",
        "print(gov_dataset['Total_-_GOK_Budget_Est_KES'].isnull())\n",
        "\n"
      ],
      "execution_count": null,
      "outputs": []
    },
    {
      "cell_type": "markdown",
      "metadata": {
        "id": "sMVIZyM7NAWR"
      },
      "source": [
        "## Step 2: Clean Missing Data"
      ]
    },
    {
      "cell_type": "markdown",
      "metadata": {
        "id": "bf4VF5tiPKfK"
      },
      "source": [
        "Now that we have been able to identify our missing values in our datasets, we can deal with them in the following ways."
      ]
    },
    {
      "cell_type": "markdown",
      "metadata": {
        "id": "-KXUxWLb3wKH"
      },
      "source": [
        "### a) We can recode/replace these values\n",
        "Here, we can do this by using the fillna method and recoding/replacing the missing values with another value or other values. In this example, we will recode the missing values to 0."
      ]
    },
    {
      "cell_type": "code",
      "metadata": {
        "id": "aY13KkxRPQdB",
        "colab": {
          "base_uri": "https://localhost:8080/",
          "height": 442
        },
        "outputId": "cf38af9d-2d01-4ef0-d1b9-c956fd7081a9"
      },
      "source": [
        "# We can recode missing values with 0 by doing the following. \n",
        "# Do note that this will appear as 0.0 in your dataframe.\n",
        "# \n",
        "df_recode = df.fillna(0)\n",
        "\n",
        "# then preview the first 5 rows for the recoded dataframe\n",
        "#\n",
        "df_recode.head(5)"
      ],
      "execution_count": 26,
      "outputs": [
        {
          "output_type": "execute_result",
          "data": {
            "text/html": [
              "<div>\n",
              "<style scoped>\n",
              "    .dataframe tbody tr th:only-of-type {\n",
              "        vertical-align: middle;\n",
              "    }\n",
              "\n",
              "    .dataframe tbody tr th {\n",
              "        vertical-align: top;\n",
              "    }\n",
              "\n",
              "    .dataframe thead th {\n",
              "        text-align: right;\n",
              "    }\n",
              "</style>\n",
              "<table border=\"1\" class=\"dataframe\">\n",
              "  <thead>\n",
              "    <tr style=\"text-align: right;\">\n",
              "      <th></th>\n",
              "      <th>pclass</th>\n",
              "      <th>survived</th>\n",
              "      <th>name</th>\n",
              "      <th>sex</th>\n",
              "      <th>age</th>\n",
              "      <th>sibsp</th>\n",
              "      <th>parch</th>\n",
              "      <th>ticket</th>\n",
              "      <th>fare</th>\n",
              "      <th>cabin</th>\n",
              "      <th>embarked</th>\n",
              "      <th>boat</th>\n",
              "      <th>body</th>\n",
              "      <th>home.dest</th>\n",
              "    </tr>\n",
              "  </thead>\n",
              "  <tbody>\n",
              "    <tr>\n",
              "      <th>0</th>\n",
              "      <td>1.0</td>\n",
              "      <td>1.0</td>\n",
              "      <td>Allen, Miss. Elisabeth Walton</td>\n",
              "      <td>female</td>\n",
              "      <td>29.0000</td>\n",
              "      <td>0.0</td>\n",
              "      <td>0.0</td>\n",
              "      <td>24160</td>\n",
              "      <td>211.3375</td>\n",
              "      <td>B5</td>\n",
              "      <td>S</td>\n",
              "      <td>2</td>\n",
              "      <td>0.0</td>\n",
              "      <td>St Louis, MO</td>\n",
              "    </tr>\n",
              "    <tr>\n",
              "      <th>1</th>\n",
              "      <td>1.0</td>\n",
              "      <td>1.0</td>\n",
              "      <td>Allison, Master. Hudson Trevor</td>\n",
              "      <td>male</td>\n",
              "      <td>0.9167</td>\n",
              "      <td>1.0</td>\n",
              "      <td>2.0</td>\n",
              "      <td>113781</td>\n",
              "      <td>151.5500</td>\n",
              "      <td>C22 C26</td>\n",
              "      <td>S</td>\n",
              "      <td>11</td>\n",
              "      <td>0.0</td>\n",
              "      <td>Montreal, PQ / Chesterville, ON</td>\n",
              "    </tr>\n",
              "    <tr>\n",
              "      <th>2</th>\n",
              "      <td>1.0</td>\n",
              "      <td>0.0</td>\n",
              "      <td>Allison, Miss. Helen Loraine</td>\n",
              "      <td>female</td>\n",
              "      <td>2.0000</td>\n",
              "      <td>1.0</td>\n",
              "      <td>2.0</td>\n",
              "      <td>113781</td>\n",
              "      <td>151.5500</td>\n",
              "      <td>C22 C26</td>\n",
              "      <td>S</td>\n",
              "      <td>0</td>\n",
              "      <td>0.0</td>\n",
              "      <td>Montreal, PQ / Chesterville, ON</td>\n",
              "    </tr>\n",
              "    <tr>\n",
              "      <th>3</th>\n",
              "      <td>1.0</td>\n",
              "      <td>0.0</td>\n",
              "      <td>Allison, Mr. Hudson Joshua Creighton</td>\n",
              "      <td>male</td>\n",
              "      <td>30.0000</td>\n",
              "      <td>1.0</td>\n",
              "      <td>2.0</td>\n",
              "      <td>113781</td>\n",
              "      <td>151.5500</td>\n",
              "      <td>C22 C26</td>\n",
              "      <td>S</td>\n",
              "      <td>0</td>\n",
              "      <td>135.0</td>\n",
              "      <td>Montreal, PQ / Chesterville, ON</td>\n",
              "    </tr>\n",
              "    <tr>\n",
              "      <th>4</th>\n",
              "      <td>1.0</td>\n",
              "      <td>0.0</td>\n",
              "      <td>Allison, Mrs. Hudson J C (Bessie Waldo Daniels)</td>\n",
              "      <td>female</td>\n",
              "      <td>25.0000</td>\n",
              "      <td>1.0</td>\n",
              "      <td>2.0</td>\n",
              "      <td>113781</td>\n",
              "      <td>151.5500</td>\n",
              "      <td>C22 C26</td>\n",
              "      <td>S</td>\n",
              "      <td>0</td>\n",
              "      <td>0.0</td>\n",
              "      <td>Montreal, PQ / Chesterville, ON</td>\n",
              "    </tr>\n",
              "  </tbody>\n",
              "</table>\n",
              "</div>"
            ],
            "text/plain": [
              "   pclass  survived  ...   body                        home.dest\n",
              "0     1.0       1.0  ...    0.0                     St Louis, MO\n",
              "1     1.0       1.0  ...    0.0  Montreal, PQ / Chesterville, ON\n",
              "2     1.0       0.0  ...    0.0  Montreal, PQ / Chesterville, ON\n",
              "3     1.0       0.0  ...  135.0  Montreal, PQ / Chesterville, ON\n",
              "4     1.0       0.0  ...    0.0  Montreal, PQ / Chesterville, ON\n",
              "\n",
              "[5 rows x 14 columns]"
            ]
          },
          "metadata": {
            "tags": []
          },
          "execution_count": 26
        }
      ]
    },
    {
      "cell_type": "code",
      "metadata": {
        "id": "B-N_zB18QrHx",
        "colab": {
          "base_uri": "https://localhost:8080/"
        },
        "outputId": "448c1c2f-b9ac-4c74-ebc4-2824640d1425"
      },
      "source": [
        "# After recoding, let's check for non-missing values in the recoded dataframe\n",
        "#\n",
        "df_recode.count()"
      ],
      "execution_count": 17,
      "outputs": [
        {
          "output_type": "execute_result",
          "data": {
            "text/plain": [
              "pclass       1310\n",
              "survived     1310\n",
              "name         1310\n",
              "sex          1310\n",
              "age          1310\n",
              "sibsp        1310\n",
              "parch        1310\n",
              "ticket       1310\n",
              "fare         1310\n",
              "cabin        1310\n",
              "embarked     1310\n",
              "boat         1310\n",
              "body         1310\n",
              "home.dest    1310\n",
              "dtype: int64"
            ]
          },
          "metadata": {
            "tags": []
          },
          "execution_count": 17
        }
      ]
    },
    {
      "cell_type": "code",
      "metadata": {
        "id": "bGyp0dbhi1b-",
        "colab": {
          "base_uri": "https://localhost:8080/",
          "height": 326
        },
        "outputId": "08a7c336-fd23-4ac2-c830-010c30fc2b91"
      },
      "source": [
        "# Challenge 6: Government Project Dataset\n",
        "# Nice! Let's now replace the missing values in our dataset with 0 again \n",
        "# just as in our previous example\n",
        "# \n",
        "Governmentproject=gov_dataset.fillna(0)\n",
        "Governmentproject.head(5)"
      ],
      "execution_count": 25,
      "outputs": [
        {
          "output_type": "execute_result",
          "data": {
            "text/html": [
              "<div>\n",
              "<style scoped>\n",
              "    .dataframe tbody tr th:only-of-type {\n",
              "        vertical-align: middle;\n",
              "    }\n",
              "\n",
              "    .dataframe tbody tr th {\n",
              "        vertical-align: top;\n",
              "    }\n",
              "\n",
              "    .dataframe thead th {\n",
              "        text-align: right;\n",
              "    }\n",
              "</style>\n",
              "<table border=\"1\" class=\"dataframe\">\n",
              "  <thead>\n",
              "    <tr style=\"text-align: right;\">\n",
              "      <th></th>\n",
              "      <th>Implementing_Agency</th>\n",
              "      <th>Total_-_GOK_Budget_Est_KES</th>\n",
              "      <th>Total_-_Loan_Budget_Est_KES</th>\n",
              "      <th>Total_-_Grant_Budget_Est_KES</th>\n",
              "      <th>Total_Budget_Supported__by_Donors_KES</th>\n",
              "      <th>Total_2013/2014_Budget_KES</th>\n",
              "      <th>OBJECTID</th>\n",
              "    </tr>\n",
              "  </thead>\n",
              "  <tbody>\n",
              "    <tr>\n",
              "      <th>0</th>\n",
              "      <td>0</td>\n",
              "      <td>0.000000e+00</td>\n",
              "      <td>0</td>\n",
              "      <td>3524395000</td>\n",
              "      <td>3524395000</td>\n",
              "      <td>3524395000</td>\n",
              "      <td>0</td>\n",
              "    </tr>\n",
              "    <tr>\n",
              "      <th>1</th>\n",
              "      <td>MOEW&amp;NR  National Environment Management Auth...</td>\n",
              "      <td>0.000000e+00</td>\n",
              "      <td>0</td>\n",
              "      <td>300000000</td>\n",
              "      <td>300000000</td>\n",
              "      <td>300000000</td>\n",
              "      <td>1</td>\n",
              "    </tr>\n",
              "    <tr>\n",
              "      <th>2</th>\n",
              "      <td>Ministry of Agriculture, Livestock and Fisheries</td>\n",
              "      <td>2.306364e+09</td>\n",
              "      <td>23354779585</td>\n",
              "      <td>8732081258</td>\n",
              "      <td>32086860843</td>\n",
              "      <td>34393225231</td>\n",
              "      <td>2</td>\n",
              "    </tr>\n",
              "    <tr>\n",
              "      <th>3</th>\n",
              "      <td>The Presidency</td>\n",
              "      <td>0.000000e+00</td>\n",
              "      <td>0</td>\n",
              "      <td>0</td>\n",
              "      <td>0</td>\n",
              "      <td>0</td>\n",
              "      <td>3</td>\n",
              "    </tr>\n",
              "    <tr>\n",
              "      <th>4</th>\n",
              "      <td>MOAL&amp;F  Kenya  Plant Health Inspectorate Serv...</td>\n",
              "      <td>0.000000e+00</td>\n",
              "      <td>0</td>\n",
              "      <td>66916163</td>\n",
              "      <td>66916163</td>\n",
              "      <td>66916163</td>\n",
              "      <td>4</td>\n",
              "    </tr>\n",
              "  </tbody>\n",
              "</table>\n",
              "</div>"
            ],
            "text/plain": [
              "                                 Implementing_Agency  ...  OBJECTID\n",
              "0                                                  0  ...         0\n",
              "1   MOEW&NR  National Environment Management Auth...  ...         1\n",
              "2   Ministry of Agriculture, Livestock and Fisheries  ...         2\n",
              "3                                     The Presidency  ...         3\n",
              "4   MOAL&F  Kenya  Plant Health Inspectorate Serv...  ...         4\n",
              "\n",
              "[5 rows x 7 columns]"
            ]
          },
          "metadata": {
            "tags": []
          },
          "execution_count": 25
        }
      ]
    },
    {
      "cell_type": "code",
      "metadata": {
        "colab": {
          "base_uri": "https://localhost:8080/"
        },
        "id": "G6GCts3BAV3_",
        "outputId": "3d14aaf8-d044-40b5-cbf9-5a315be14905"
      },
      "source": [
        "Governmentproject.count()"
      ],
      "execution_count": 20,
      "outputs": [
        {
          "output_type": "execute_result",
          "data": {
            "text/plain": [
              "Implementing_Agency                      40\n",
              "Total_-_GOK_Budget_Est_KES               40\n",
              "Total_-_Loan_Budget_Est_KES              40\n",
              "Total_-_Grant_Budget_Est_KES             40\n",
              "Total_Budget_Supported__by_Donors_KES    40\n",
              "Total_2013/2014_Budget_KES               40\n",
              "OBJECTID                                 40\n",
              "dtype: int64"
            ]
          },
          "metadata": {
            "tags": []
          },
          "execution_count": 20
        }
      ]
    },
    {
      "cell_type": "markdown",
      "metadata": {
        "id": "QaPXaERdleI1"
      },
      "source": [
        "**Challenge 7:** Together with your peer now discuss the cases where you might use the above recoding technique."
      ]
    },
    {
      "cell_type": "markdown",
      "metadata": {
        "id": "2rizu8-L30Th"
      },
      "source": [
        "### b) We can fill forward missing values"
      ]
    },
    {
      "cell_type": "markdown",
      "metadata": {
        "id": "tHxr0SwnSXOX"
      },
      "source": [
        "When data is filled data forward, the last known value is used for the next missing value. The missing values are replaced with the last known/recorded value. Let's see how that works."
      ]
    },
    {
      "cell_type": "code",
      "metadata": {
        "id": "rkY5ZdmzTLeV",
        "colab": {
          "base_uri": "https://localhost:8080/",
          "height": 442
        },
        "outputId": "9d38127d-b38b-4dab-b3a1-1f75890fe02a"
      },
      "source": [
        "# First lets preview out df ,and note the missing data in the boat and body columns\n",
        "#\n",
        "df.head()\n"
      ],
      "execution_count": 21,
      "outputs": [
        {
          "output_type": "execute_result",
          "data": {
            "text/html": [
              "<div>\n",
              "<style scoped>\n",
              "    .dataframe tbody tr th:only-of-type {\n",
              "        vertical-align: middle;\n",
              "    }\n",
              "\n",
              "    .dataframe tbody tr th {\n",
              "        vertical-align: top;\n",
              "    }\n",
              "\n",
              "    .dataframe thead th {\n",
              "        text-align: right;\n",
              "    }\n",
              "</style>\n",
              "<table border=\"1\" class=\"dataframe\">\n",
              "  <thead>\n",
              "    <tr style=\"text-align: right;\">\n",
              "      <th></th>\n",
              "      <th>pclass</th>\n",
              "      <th>survived</th>\n",
              "      <th>name</th>\n",
              "      <th>sex</th>\n",
              "      <th>age</th>\n",
              "      <th>sibsp</th>\n",
              "      <th>parch</th>\n",
              "      <th>ticket</th>\n",
              "      <th>fare</th>\n",
              "      <th>cabin</th>\n",
              "      <th>embarked</th>\n",
              "      <th>boat</th>\n",
              "      <th>body</th>\n",
              "      <th>home.dest</th>\n",
              "    </tr>\n",
              "  </thead>\n",
              "  <tbody>\n",
              "    <tr>\n",
              "      <th>0</th>\n",
              "      <td>1.0</td>\n",
              "      <td>1.0</td>\n",
              "      <td>Allen, Miss. Elisabeth Walton</td>\n",
              "      <td>female</td>\n",
              "      <td>29.0000</td>\n",
              "      <td>0.0</td>\n",
              "      <td>0.0</td>\n",
              "      <td>24160</td>\n",
              "      <td>211.3375</td>\n",
              "      <td>B5</td>\n",
              "      <td>S</td>\n",
              "      <td>2</td>\n",
              "      <td>NaN</td>\n",
              "      <td>St Louis, MO</td>\n",
              "    </tr>\n",
              "    <tr>\n",
              "      <th>1</th>\n",
              "      <td>1.0</td>\n",
              "      <td>1.0</td>\n",
              "      <td>Allison, Master. Hudson Trevor</td>\n",
              "      <td>male</td>\n",
              "      <td>0.9167</td>\n",
              "      <td>1.0</td>\n",
              "      <td>2.0</td>\n",
              "      <td>113781</td>\n",
              "      <td>151.5500</td>\n",
              "      <td>C22 C26</td>\n",
              "      <td>S</td>\n",
              "      <td>11</td>\n",
              "      <td>NaN</td>\n",
              "      <td>Montreal, PQ / Chesterville, ON</td>\n",
              "    </tr>\n",
              "    <tr>\n",
              "      <th>2</th>\n",
              "      <td>1.0</td>\n",
              "      <td>0.0</td>\n",
              "      <td>Allison, Miss. Helen Loraine</td>\n",
              "      <td>female</td>\n",
              "      <td>2.0000</td>\n",
              "      <td>1.0</td>\n",
              "      <td>2.0</td>\n",
              "      <td>113781</td>\n",
              "      <td>151.5500</td>\n",
              "      <td>C22 C26</td>\n",
              "      <td>S</td>\n",
              "      <td>NaN</td>\n",
              "      <td>NaN</td>\n",
              "      <td>Montreal, PQ / Chesterville, ON</td>\n",
              "    </tr>\n",
              "    <tr>\n",
              "      <th>3</th>\n",
              "      <td>1.0</td>\n",
              "      <td>0.0</td>\n",
              "      <td>Allison, Mr. Hudson Joshua Creighton</td>\n",
              "      <td>male</td>\n",
              "      <td>30.0000</td>\n",
              "      <td>1.0</td>\n",
              "      <td>2.0</td>\n",
              "      <td>113781</td>\n",
              "      <td>151.5500</td>\n",
              "      <td>C22 C26</td>\n",
              "      <td>S</td>\n",
              "      <td>NaN</td>\n",
              "      <td>135.0</td>\n",
              "      <td>Montreal, PQ / Chesterville, ON</td>\n",
              "    </tr>\n",
              "    <tr>\n",
              "      <th>4</th>\n",
              "      <td>1.0</td>\n",
              "      <td>0.0</td>\n",
              "      <td>Allison, Mrs. Hudson J C (Bessie Waldo Daniels)</td>\n",
              "      <td>female</td>\n",
              "      <td>25.0000</td>\n",
              "      <td>1.0</td>\n",
              "      <td>2.0</td>\n",
              "      <td>113781</td>\n",
              "      <td>151.5500</td>\n",
              "      <td>C22 C26</td>\n",
              "      <td>S</td>\n",
              "      <td>NaN</td>\n",
              "      <td>NaN</td>\n",
              "      <td>Montreal, PQ / Chesterville, ON</td>\n",
              "    </tr>\n",
              "  </tbody>\n",
              "</table>\n",
              "</div>"
            ],
            "text/plain": [
              "   pclass  survived  ...   body                        home.dest\n",
              "0     1.0       1.0  ...    NaN                     St Louis, MO\n",
              "1     1.0       1.0  ...    NaN  Montreal, PQ / Chesterville, ON\n",
              "2     1.0       0.0  ...    NaN  Montreal, PQ / Chesterville, ON\n",
              "3     1.0       0.0  ...  135.0  Montreal, PQ / Chesterville, ON\n",
              "4     1.0       0.0  ...    NaN  Montreal, PQ / Chesterville, ON\n",
              "\n",
              "[5 rows x 14 columns]"
            ]
          },
          "metadata": {
            "tags": []
          },
          "execution_count": 21
        }
      ]
    },
    {
      "cell_type": "code",
      "metadata": {
        "colab": {
          "base_uri": "https://localhost:8080/"
        },
        "id": "4I2rD3pgA8Rk",
        "outputId": "0421b710-3b36-497e-bb70-78238cce230d"
      },
      "source": [
        "df.count()"
      ],
      "execution_count": 22,
      "outputs": [
        {
          "output_type": "execute_result",
          "data": {
            "text/plain": [
              "pclass       1309\n",
              "survived     1309\n",
              "name         1309\n",
              "sex          1309\n",
              "age          1046\n",
              "sibsp        1309\n",
              "parch        1309\n",
              "ticket       1309\n",
              "fare         1308\n",
              "cabin         295\n",
              "embarked     1307\n",
              "boat          486\n",
              "body          121\n",
              "home.dest     745\n",
              "dtype: int64"
            ]
          },
          "metadata": {
            "tags": []
          },
          "execution_count": 22
        }
      ]
    },
    {
      "cell_type": "code",
      "metadata": {
        "id": "MFpvJFFeSLwc"
      },
      "source": [
        "# And now let's fill forward\n",
        "#\n",
        "df_fill_forward = df.fillna(method='ffill')\n",
        "\n",
        "# Then preview our dataframe and try to understand it\n",
        "#\n",
        "df_fill_forward.head()\n",
        " \n",
        "\n",
        "# Did you notice what happens when the column begins with a missing value? \n",
        "# Discuss this with your peer"
      ],
      "execution_count": null,
      "outputs": []
    },
    {
      "cell_type": "code",
      "metadata": {
        "id": "nfwXa7gJBsut"
      },
      "source": [
        "df_fill_forward.count()"
      ],
      "execution_count": null,
      "outputs": []
    },
    {
      "cell_type": "code",
      "metadata": {
        "id": "KTFGrhLPjHTK",
        "colab": {
          "base_uri": "https://localhost:8080/",
          "height": 326
        },
        "outputId": "dcd00b62-581c-411e-b92f-43b927a5f192"
      },
      "source": [
        "# Challenge 8: Government Project Dataset\n",
        "# Onto our other dataset, let's now fill forward the missing values and see what happens\n",
        "# \n",
        "government_fillfoward=gov_dataset.fillna(method=\"ffill\")\n",
        "government_fillfoward.head()\n"
      ],
      "execution_count": 28,
      "outputs": [
        {
          "output_type": "execute_result",
          "data": {
            "text/html": [
              "<div>\n",
              "<style scoped>\n",
              "    .dataframe tbody tr th:only-of-type {\n",
              "        vertical-align: middle;\n",
              "    }\n",
              "\n",
              "    .dataframe tbody tr th {\n",
              "        vertical-align: top;\n",
              "    }\n",
              "\n",
              "    .dataframe thead th {\n",
              "        text-align: right;\n",
              "    }\n",
              "</style>\n",
              "<table border=\"1\" class=\"dataframe\">\n",
              "  <thead>\n",
              "    <tr style=\"text-align: right;\">\n",
              "      <th></th>\n",
              "      <th>Implementing_Agency</th>\n",
              "      <th>Total_-_GOK_Budget_Est_KES</th>\n",
              "      <th>Total_-_Loan_Budget_Est_KES</th>\n",
              "      <th>Total_-_Grant_Budget_Est_KES</th>\n",
              "      <th>Total_Budget_Supported__by_Donors_KES</th>\n",
              "      <th>Total_2013/2014_Budget_KES</th>\n",
              "      <th>OBJECTID</th>\n",
              "    </tr>\n",
              "  </thead>\n",
              "  <tbody>\n",
              "    <tr>\n",
              "      <th>0</th>\n",
              "      <td>NaN</td>\n",
              "      <td>0.000000e+00</td>\n",
              "      <td>0</td>\n",
              "      <td>3524395000</td>\n",
              "      <td>3524395000</td>\n",
              "      <td>3524395000</td>\n",
              "      <td>0</td>\n",
              "    </tr>\n",
              "    <tr>\n",
              "      <th>1</th>\n",
              "      <td>MOEW&amp;NR  National Environment Management Auth...</td>\n",
              "      <td>0.000000e+00</td>\n",
              "      <td>0</td>\n",
              "      <td>300000000</td>\n",
              "      <td>300000000</td>\n",
              "      <td>300000000</td>\n",
              "      <td>1</td>\n",
              "    </tr>\n",
              "    <tr>\n",
              "      <th>2</th>\n",
              "      <td>Ministry of Agriculture, Livestock and Fisheries</td>\n",
              "      <td>2.306364e+09</td>\n",
              "      <td>23354779585</td>\n",
              "      <td>8732081258</td>\n",
              "      <td>32086860843</td>\n",
              "      <td>34393225231</td>\n",
              "      <td>2</td>\n",
              "    </tr>\n",
              "    <tr>\n",
              "      <th>3</th>\n",
              "      <td>The Presidency</td>\n",
              "      <td>2.306364e+09</td>\n",
              "      <td>0</td>\n",
              "      <td>0</td>\n",
              "      <td>0</td>\n",
              "      <td>0</td>\n",
              "      <td>3</td>\n",
              "    </tr>\n",
              "    <tr>\n",
              "      <th>4</th>\n",
              "      <td>MOAL&amp;F  Kenya  Plant Health Inspectorate Serv...</td>\n",
              "      <td>0.000000e+00</td>\n",
              "      <td>0</td>\n",
              "      <td>66916163</td>\n",
              "      <td>66916163</td>\n",
              "      <td>66916163</td>\n",
              "      <td>4</td>\n",
              "    </tr>\n",
              "  </tbody>\n",
              "</table>\n",
              "</div>"
            ],
            "text/plain": [
              "                                 Implementing_Agency  ...  OBJECTID\n",
              "0                                                NaN  ...         0\n",
              "1   MOEW&NR  National Environment Management Auth...  ...         1\n",
              "2   Ministry of Agriculture, Livestock and Fisheries  ...         2\n",
              "3                                     The Presidency  ...         3\n",
              "4   MOAL&F  Kenya  Plant Health Inspectorate Serv...  ...         4\n",
              "\n",
              "[5 rows x 7 columns]"
            ]
          },
          "metadata": {
            "tags": []
          },
          "execution_count": 28
        }
      ]
    },
    {
      "cell_type": "code",
      "metadata": {
        "id": "-6EZv7qTCckz"
      },
      "source": [
        "government_fillfoward.count()"
      ],
      "execution_count": null,
      "outputs": []
    },
    {
      "cell_type": "markdown",
      "metadata": {
        "id": "QhKnRkirk-13"
      },
      "source": [
        "**Challenge 9: **Together with your peer discuss the cases where you might use the above fill forward technique."
      ]
    },
    {
      "cell_type": "code",
      "metadata": {
        "id": "ElsH68_pCOZC"
      },
      "source": [
        ""
      ],
      "execution_count": null,
      "outputs": []
    },
    {
      "cell_type": "markdown",
      "metadata": {
        "id": "cp-NTai_33x6"
      },
      "source": [
        "### c) We can fill backward missing values"
      ]
    },
    {
      "cell_type": "markdown",
      "metadata": {
        "id": "9tCj_qF0UdK2"
      },
      "source": [
        "We can also do the opposite, and fill data backward our missing values. When doing this, the newest value replaces the missing data."
      ]
    },
    {
      "cell_type": "code",
      "metadata": {
        "id": "emdfItSJViLy"
      },
      "source": [
        "# Again first lets preview df (last 10 items), and note the missing data in the boat and body columns\n",
        "#\n",
        "print(df.tail(10))"
      ],
      "execution_count": null,
      "outputs": []
    },
    {
      "cell_type": "code",
      "metadata": {
        "id": "t3lUQSTPUtna",
        "colab": {
          "base_uri": "https://localhost:8080/"
        },
        "outputId": "e800f5ae-0681-44f3-f666-d26eafc2ba9e"
      },
      "source": [
        "# And now fill backward\n",
        "#\n",
        "df_fill_backward = df.fillna(method='bfill')\n",
        "\n",
        "# Then preview our dataframe (last 10 items) and try to understand what took place\n",
        "#\n",
        "print(df_fill_backward.tail(10))\n",
        "\n",
        "# After this, we will discuss what happens when a column ends with a missing value."
      ],
      "execution_count": 31,
      "outputs": [
        {
          "output_type": "stream",
          "text": [
            "      pclass  survived  ...   body home.dest\n",
            "1300     3.0       1.0  ...  312.0       NaN\n",
            "1301     3.0       0.0  ...  312.0       NaN\n",
            "1302     3.0       0.0  ...  328.0       NaN\n",
            "1303     3.0       0.0  ...  328.0       NaN\n",
            "1304     3.0       0.0  ...  328.0       NaN\n",
            "1305     3.0       0.0  ...  304.0       NaN\n",
            "1306     3.0       0.0  ...  304.0       NaN\n",
            "1307     3.0       0.0  ...    NaN       NaN\n",
            "1308     3.0       0.0  ...    NaN       NaN\n",
            "1309     NaN       NaN  ...    NaN       NaN\n",
            "\n",
            "[10 rows x 14 columns]\n"
          ],
          "name": "stdout"
        }
      ]
    },
    {
      "cell_type": "code",
      "metadata": {
        "id": "jf_uQkE-jUZB",
        "colab": {
          "base_uri": "https://localhost:8080/",
          "height": 1000
        },
        "outputId": "7acdb644-d3e1-4ef9-c4cc-396a768a4d11"
      },
      "source": [
        "# Challenge 10: Government Project Dataset\n",
        "# Back to our government dataset. We now fill backward the missing values \n",
        "# and try to understand the changes that took place\n",
        "# \n",
        "government_fillbackward=gov_dataset.fillna(method=\"bfill\")\n",
        "government_fillbackward"
      ],
      "execution_count": 32,
      "outputs": [
        {
          "output_type": "execute_result",
          "data": {
            "text/html": [
              "<div>\n",
              "<style scoped>\n",
              "    .dataframe tbody tr th:only-of-type {\n",
              "        vertical-align: middle;\n",
              "    }\n",
              "\n",
              "    .dataframe tbody tr th {\n",
              "        vertical-align: top;\n",
              "    }\n",
              "\n",
              "    .dataframe thead th {\n",
              "        text-align: right;\n",
              "    }\n",
              "</style>\n",
              "<table border=\"1\" class=\"dataframe\">\n",
              "  <thead>\n",
              "    <tr style=\"text-align: right;\">\n",
              "      <th></th>\n",
              "      <th>Implementing_Agency</th>\n",
              "      <th>Total_-_GOK_Budget_Est_KES</th>\n",
              "      <th>Total_-_Loan_Budget_Est_KES</th>\n",
              "      <th>Total_-_Grant_Budget_Est_KES</th>\n",
              "      <th>Total_Budget_Supported__by_Donors_KES</th>\n",
              "      <th>Total_2013/2014_Budget_KES</th>\n",
              "      <th>OBJECTID</th>\n",
              "    </tr>\n",
              "  </thead>\n",
              "  <tbody>\n",
              "    <tr>\n",
              "      <th>0</th>\n",
              "      <td>MOEW&amp;NR  National Environment Management Auth...</td>\n",
              "      <td>0.000000e+00</td>\n",
              "      <td>0</td>\n",
              "      <td>3524395000</td>\n",
              "      <td>3524395000</td>\n",
              "      <td>3524395000</td>\n",
              "      <td>0</td>\n",
              "    </tr>\n",
              "    <tr>\n",
              "      <th>1</th>\n",
              "      <td>MOEW&amp;NR  National Environment Management Auth...</td>\n",
              "      <td>0.000000e+00</td>\n",
              "      <td>0</td>\n",
              "      <td>300000000</td>\n",
              "      <td>300000000</td>\n",
              "      <td>300000000</td>\n",
              "      <td>1</td>\n",
              "    </tr>\n",
              "    <tr>\n",
              "      <th>2</th>\n",
              "      <td>Ministry of Agriculture, Livestock and Fisheries</td>\n",
              "      <td>2.306364e+09</td>\n",
              "      <td>23354779585</td>\n",
              "      <td>8732081258</td>\n",
              "      <td>32086860843</td>\n",
              "      <td>34393225231</td>\n",
              "      <td>2</td>\n",
              "    </tr>\n",
              "    <tr>\n",
              "      <th>3</th>\n",
              "      <td>The Presidency</td>\n",
              "      <td>0.000000e+00</td>\n",
              "      <td>0</td>\n",
              "      <td>0</td>\n",
              "      <td>0</td>\n",
              "      <td>0</td>\n",
              "      <td>3</td>\n",
              "    </tr>\n",
              "    <tr>\n",
              "      <th>4</th>\n",
              "      <td>MOAL&amp;F  Kenya  Plant Health Inspectorate Serv...</td>\n",
              "      <td>0.000000e+00</td>\n",
              "      <td>0</td>\n",
              "      <td>66916163</td>\n",
              "      <td>66916163</td>\n",
              "      <td>66916163</td>\n",
              "      <td>4</td>\n",
              "    </tr>\n",
              "    <tr>\n",
              "      <th>5</th>\n",
              "      <td>Ministry of Foreign Affairs</td>\n",
              "      <td>0.000000e+00</td>\n",
              "      <td>0</td>\n",
              "      <td>46000000</td>\n",
              "      <td>46000000</td>\n",
              "      <td>46000000</td>\n",
              "      <td>5</td>\n",
              "    </tr>\n",
              "    <tr>\n",
              "      <th>6</th>\n",
              "      <td>MRDA  Ewaso Ngiro North Dev. Authority (ENNDA)</td>\n",
              "      <td>6.560292e+09</td>\n",
              "      <td>0</td>\n",
              "      <td>0</td>\n",
              "      <td>0</td>\n",
              "      <td>6560292000</td>\n",
              "      <td>6</td>\n",
              "    </tr>\n",
              "    <tr>\n",
              "      <th>7</th>\n",
              "      <td>MOE&amp;P  Kenya Electricity Transmission Company...</td>\n",
              "      <td>0.000000e+00</td>\n",
              "      <td>1304000000</td>\n",
              "      <td>0</td>\n",
              "      <td>1304000000</td>\n",
              "      <td>1304000000</td>\n",
              "      <td>7</td>\n",
              "    </tr>\n",
              "    <tr>\n",
              "      <th>8</th>\n",
              "      <td>Office of The Attorney General and Department...</td>\n",
              "      <td>0.000000e+00</td>\n",
              "      <td>0</td>\n",
              "      <td>1351905890</td>\n",
              "      <td>1351905890</td>\n",
              "      <td>1351905890</td>\n",
              "      <td>8</td>\n",
              "    </tr>\n",
              "    <tr>\n",
              "      <th>9</th>\n",
              "      <td>State Department of Infrastructure</td>\n",
              "      <td>1.227000e+07</td>\n",
              "      <td>0</td>\n",
              "      <td>0</td>\n",
              "      <td>0</td>\n",
              "      <td>12270000</td>\n",
              "      <td>9</td>\n",
              "    </tr>\n",
              "    <tr>\n",
              "      <th>10</th>\n",
              "      <td>Ministry of Health</td>\n",
              "      <td>2.312443e+10</td>\n",
              "      <td>14674350000</td>\n",
              "      <td>28425220670</td>\n",
              "      <td>43099570670</td>\n",
              "      <td>66224000198</td>\n",
              "      <td>10</td>\n",
              "    </tr>\n",
              "    <tr>\n",
              "      <th>11</th>\n",
              "      <td>MOES&amp;T  Kimathi University of Science and Tec...</td>\n",
              "      <td>4.800000e+07</td>\n",
              "      <td>0</td>\n",
              "      <td>0</td>\n",
              "      <td>0</td>\n",
              "      <td>48000000</td>\n",
              "      <td>11</td>\n",
              "    </tr>\n",
              "    <tr>\n",
              "      <th>12</th>\n",
              "      <td>Ministry of Devolution and Planning</td>\n",
              "      <td>9.007978e+08</td>\n",
              "      <td>13292998571</td>\n",
              "      <td>40902510668</td>\n",
              "      <td>54195509239</td>\n",
              "      <td>55096307002</td>\n",
              "      <td>12</td>\n",
              "    </tr>\n",
              "    <tr>\n",
              "      <th>13</th>\n",
              "      <td>Ministry of Information and Communications an...</td>\n",
              "      <td>8.172085e+07</td>\n",
              "      <td>18282437954</td>\n",
              "      <td>2248145612</td>\n",
              "      <td>20530583566</td>\n",
              "      <td>20612304417</td>\n",
              "      <td>13</td>\n",
              "    </tr>\n",
              "    <tr>\n",
              "      <th>14</th>\n",
              "      <td>Ministry of Labour Social Security and Services</td>\n",
              "      <td>6.000000e+06</td>\n",
              "      <td>3393530747</td>\n",
              "      <td>4111094603</td>\n",
              "      <td>7504625350</td>\n",
              "      <td>7510625350</td>\n",
              "      <td>14</td>\n",
              "    </tr>\n",
              "    <tr>\n",
              "      <th>15</th>\n",
              "      <td>Ministry of Commerce Tourism and East African...</td>\n",
              "      <td>4.000000e+07</td>\n",
              "      <td>0</td>\n",
              "      <td>195400000</td>\n",
              "      <td>195400000</td>\n",
              "      <td>235400000</td>\n",
              "      <td>15</td>\n",
              "    </tr>\n",
              "    <tr>\n",
              "      <th>16</th>\n",
              "      <td>Ministry of Industialization and Enterprise D...</td>\n",
              "      <td>2.313500e+08</td>\n",
              "      <td>0</td>\n",
              "      <td>504600000</td>\n",
              "      <td>504600000</td>\n",
              "      <td>735950000</td>\n",
              "      <td>16</td>\n",
              "    </tr>\n",
              "    <tr>\n",
              "      <th>17</th>\n",
              "      <td>MRDA Ewaso Ngiro North Dev. Authority (ENNDA)</td>\n",
              "      <td>5.183640e+06</td>\n",
              "      <td>0</td>\n",
              "      <td>0</td>\n",
              "      <td>0</td>\n",
              "      <td>5183640</td>\n",
              "      <td>17</td>\n",
              "    </tr>\n",
              "    <tr>\n",
              "      <th>18</th>\n",
              "      <td>Ministry of Transport and Infrastructure</td>\n",
              "      <td>2.624911e+10</td>\n",
              "      <td>149320000000</td>\n",
              "      <td>25486200000</td>\n",
              "      <td>174806000000</td>\n",
              "      <td>201055000000</td>\n",
              "      <td>18</td>\n",
              "    </tr>\n",
              "    <tr>\n",
              "      <th>19</th>\n",
              "      <td>Ministry of Sports Culture and Arts</td>\n",
              "      <td>0.000000e+00</td>\n",
              "      <td>0</td>\n",
              "      <td>2095203724</td>\n",
              "      <td>2095203724</td>\n",
              "      <td>2095203724</td>\n",
              "      <td>19</td>\n",
              "    </tr>\n",
              "    <tr>\n",
              "      <th>20</th>\n",
              "      <td>Ministry of Education</td>\n",
              "      <td>3.003600e+10</td>\n",
              "      <td>14018084035</td>\n",
              "      <td>5475718114</td>\n",
              "      <td>19493802149</td>\n",
              "      <td>49529802149</td>\n",
              "      <td>20</td>\n",
              "    </tr>\n",
              "    <tr>\n",
              "      <th>21</th>\n",
              "      <td>Kisiwa Technical Training Institute</td>\n",
              "      <td>1.200000e+07</td>\n",
              "      <td>0</td>\n",
              "      <td>0</td>\n",
              "      <td>0</td>\n",
              "      <td>12000000</td>\n",
              "      <td>21</td>\n",
              "    </tr>\n",
              "    <tr>\n",
              "      <th>22</th>\n",
              "      <td>MOES&amp;T  Embu University College</td>\n",
              "      <td>4.011780e+07</td>\n",
              "      <td>0</td>\n",
              "      <td>0</td>\n",
              "      <td>0</td>\n",
              "      <td>40117799</td>\n",
              "      <td>22</td>\n",
              "    </tr>\n",
              "    <tr>\n",
              "      <th>23</th>\n",
              "      <td>MOES&amp;T  South Eastern University College</td>\n",
              "      <td>2.993424e+07</td>\n",
              "      <td>0</td>\n",
              "      <td>0</td>\n",
              "      <td>0</td>\n",
              "      <td>29934238</td>\n",
              "      <td>23</td>\n",
              "    </tr>\n",
              "    <tr>\n",
              "      <th>24</th>\n",
              "      <td>The National Treasury</td>\n",
              "      <td>2.700000e+07</td>\n",
              "      <td>6897819701</td>\n",
              "      <td>30932542738</td>\n",
              "      <td>37830362439</td>\n",
              "      <td>37857362439</td>\n",
              "      <td>24</td>\n",
              "    </tr>\n",
              "    <tr>\n",
              "      <th>25</th>\n",
              "      <td>MOES&amp;T  Kisii University</td>\n",
              "      <td>1.500000e+08</td>\n",
              "      <td>0</td>\n",
              "      <td>0</td>\n",
              "      <td>0</td>\n",
              "      <td>150000000</td>\n",
              "      <td>25</td>\n",
              "    </tr>\n",
              "    <tr>\n",
              "      <th>26</th>\n",
              "      <td>MOR  Kenya National Highway Authority</td>\n",
              "      <td>2.053809e+09</td>\n",
              "      <td>0</td>\n",
              "      <td>0</td>\n",
              "      <td>0</td>\n",
              "      <td>2053808767</td>\n",
              "      <td>26</td>\n",
              "    </tr>\n",
              "    <tr>\n",
              "      <th>27</th>\n",
              "      <td>Ministry of Devolution and Planning</td>\n",
              "      <td>0.000000e+00</td>\n",
              "      <td>0</td>\n",
              "      <td>120000000</td>\n",
              "      <td>120000000</td>\n",
              "      <td>120000000</td>\n",
              "      <td>27</td>\n",
              "    </tr>\n",
              "    <tr>\n",
              "      <th>28</th>\n",
              "      <td>The Presidency</td>\n",
              "      <td>0.000000e+00</td>\n",
              "      <td>0</td>\n",
              "      <td>70000000</td>\n",
              "      <td>70000000</td>\n",
              "      <td>70000000</td>\n",
              "      <td>28</td>\n",
              "    </tr>\n",
              "    <tr>\n",
              "      <th>29</th>\n",
              "      <td>Ministry of Environment Water and Natural Res...</td>\n",
              "      <td>5.016544e+09</td>\n",
              "      <td>47914296445</td>\n",
              "      <td>13720527117</td>\n",
              "      <td>61634823562</td>\n",
              "      <td>66651367859</td>\n",
              "      <td>29</td>\n",
              "    </tr>\n",
              "    <tr>\n",
              "      <th>30</th>\n",
              "      <td>The Judiciary</td>\n",
              "      <td>0.000000e+00</td>\n",
              "      <td>4542595000</td>\n",
              "      <td>52120000</td>\n",
              "      <td>4594715000</td>\n",
              "      <td>4594715000</td>\n",
              "      <td>30</td>\n",
              "    </tr>\n",
              "    <tr>\n",
              "      <th>31</th>\n",
              "      <td>Ministry of Land Housing and Urban Development</td>\n",
              "      <td>3.090285e+09</td>\n",
              "      <td>25301887681</td>\n",
              "      <td>1713200000</td>\n",
              "      <td>27015087681</td>\n",
              "      <td>30045372475</td>\n",
              "      <td>31</td>\n",
              "    </tr>\n",
              "    <tr>\n",
              "      <th>32</th>\n",
              "      <td>Independent Electoral and Boundaries Commission</td>\n",
              "      <td>1.200439e+07</td>\n",
              "      <td>0</td>\n",
              "      <td>701425300</td>\n",
              "      <td>701425300</td>\n",
              "      <td>713429686</td>\n",
              "      <td>32</td>\n",
              "    </tr>\n",
              "    <tr>\n",
              "      <th>33</th>\n",
              "      <td>Ministry of Interior and Coordination of Nati...</td>\n",
              "      <td>1.300000e+08</td>\n",
              "      <td>4487618281</td>\n",
              "      <td>288710000</td>\n",
              "      <td>4776328281</td>\n",
              "      <td>4906328281</td>\n",
              "      <td>33</td>\n",
              "    </tr>\n",
              "    <tr>\n",
              "      <th>34</th>\n",
              "      <td>MOES&amp;T  Egerton University (EU)</td>\n",
              "      <td>3.270103e+08</td>\n",
              "      <td>0</td>\n",
              "      <td>0</td>\n",
              "      <td>0</td>\n",
              "      <td>327010282</td>\n",
              "      <td>34</td>\n",
              "    </tr>\n",
              "    <tr>\n",
              "      <th>35</th>\n",
              "      <td>MOE&amp;P  Kenya Electricity Generating Company L...</td>\n",
              "      <td>2.000000e+09</td>\n",
              "      <td>0</td>\n",
              "      <td>0</td>\n",
              "      <td>0</td>\n",
              "      <td>2000000000</td>\n",
              "      <td>35</td>\n",
              "    </tr>\n",
              "    <tr>\n",
              "      <th>36</th>\n",
              "      <td>State Department for Education</td>\n",
              "      <td>4.193250e+06</td>\n",
              "      <td>0</td>\n",
              "      <td>0</td>\n",
              "      <td>0</td>\n",
              "      <td>4193250</td>\n",
              "      <td>36</td>\n",
              "    </tr>\n",
              "    <tr>\n",
              "      <th>37</th>\n",
              "      <td>Ministry of Energy &amp; Petroleum</td>\n",
              "      <td>6.191316e+08</td>\n",
              "      <td>129100000000</td>\n",
              "      <td>6521099528</td>\n",
              "      <td>135621000000</td>\n",
              "      <td>136240000000</td>\n",
              "      <td>37</td>\n",
              "    </tr>\n",
              "    <tr>\n",
              "      <th>38</th>\n",
              "      <td>MOES&amp;T  Karatina University College</td>\n",
              "      <td>8.000000e+07</td>\n",
              "      <td>0</td>\n",
              "      <td>0</td>\n",
              "      <td>0</td>\n",
              "      <td>80000000</td>\n",
              "      <td>38</td>\n",
              "    </tr>\n",
              "    <tr>\n",
              "      <th>39</th>\n",
              "      <td>MOR  Kenya Rural Roads Authority (KERA)</td>\n",
              "      <td>1.315244e+09</td>\n",
              "      <td>0</td>\n",
              "      <td>0</td>\n",
              "      <td>0</td>\n",
              "      <td>1315243883</td>\n",
              "      <td>39</td>\n",
              "    </tr>\n",
              "  </tbody>\n",
              "</table>\n",
              "</div>"
            ],
            "text/plain": [
              "                                  Implementing_Agency  ...  OBJECTID\n",
              "0    MOEW&NR  National Environment Management Auth...  ...         0\n",
              "1    MOEW&NR  National Environment Management Auth...  ...         1\n",
              "2    Ministry of Agriculture, Livestock and Fisheries  ...         2\n",
              "3                                      The Presidency  ...         3\n",
              "4    MOAL&F  Kenya  Plant Health Inspectorate Serv...  ...         4\n",
              "5                         Ministry of Foreign Affairs  ...         5\n",
              "6      MRDA  Ewaso Ngiro North Dev. Authority (ENNDA)  ...         6\n",
              "7    MOE&P  Kenya Electricity Transmission Company...  ...         7\n",
              "8    Office of The Attorney General and Department...  ...         8\n",
              "9                  State Department of Infrastructure  ...         9\n",
              "10                                 Ministry of Health  ...        10\n",
              "11   MOES&T  Kimathi University of Science and Tec...  ...        11\n",
              "12                Ministry of Devolution and Planning  ...        12\n",
              "13   Ministry of Information and Communications an...  ...        13\n",
              "14    Ministry of Labour Social Security and Services  ...        14\n",
              "15   Ministry of Commerce Tourism and East African...  ...        15\n",
              "16   Ministry of Industialization and Enterprise D...  ...        16\n",
              "17      MRDA Ewaso Ngiro North Dev. Authority (ENNDA)  ...        17\n",
              "18           Ministry of Transport and Infrastructure  ...        18\n",
              "19                Ministry of Sports Culture and Arts  ...        19\n",
              "20                              Ministry of Education  ...        20\n",
              "21                Kisiwa Technical Training Institute  ...        21\n",
              "22                    MOES&T  Embu University College  ...        22\n",
              "23           MOES&T  South Eastern University College  ...        23\n",
              "24                              The National Treasury  ...        24\n",
              "25                           MOES&T  Kisii University  ...        25\n",
              "26              MOR  Kenya National Highway Authority  ...        26\n",
              "27                Ministry of Devolution and Planning  ...        27\n",
              "28                                     The Presidency  ...        28\n",
              "29   Ministry of Environment Water and Natural Res...  ...        29\n",
              "30                                      The Judiciary  ...        30\n",
              "31     Ministry of Land Housing and Urban Development  ...        31\n",
              "32    Independent Electoral and Boundaries Commission  ...        32\n",
              "33   Ministry of Interior and Coordination of Nati...  ...        33\n",
              "34                    MOES&T  Egerton University (EU)  ...        34\n",
              "35   MOE&P  Kenya Electricity Generating Company L...  ...        35\n",
              "36                     State Department for Education  ...        36\n",
              "37                     Ministry of Energy & Petroleum  ...        37\n",
              "38                MOES&T  Karatina University College  ...        38\n",
              "39            MOR  Kenya Rural Roads Authority (KERA)  ...        39\n",
              "\n",
              "[40 rows x 7 columns]"
            ]
          },
          "metadata": {
            "tags": []
          },
          "execution_count": 32
        }
      ]
    },
    {
      "cell_type": "markdown",
      "metadata": {
        "id": "_PIG0u78lKe-"
      },
      "source": [
        "**Challenge 11: ** Together with your peer discuss the cases where you might use the above fill backward technique."
      ]
    },
    {
      "cell_type": "markdown",
      "metadata": {
        "id": "QdrSkHEP35t5"
      },
      "source": [
        "\n",
        "### d) We can interpolate missing values"
      ]
    },
    {
      "cell_type": "markdown",
      "metadata": {
        "id": "pVDrZtZSXewN"
      },
      "source": [
        "Interpolation uses other values to fill in the missing values. It does this by treating missing values as if they should be equally spaced apart. This function fills in the missing values linearly as shown in the example below."
      ]
    },
    {
      "cell_type": "code",
      "metadata": {
        "id": "J4TIJ5OxYKdj",
        "colab": {
          "base_uri": "https://localhost:8080/",
          "height": 359
        },
        "outputId": "33800c24-3d2f-4340-ba2a-55836779ec3c"
      },
      "source": [
        "# Once again first lets print out df, and note the missing data in the boat and body columns\n",
        "# NB: iloc gets rows (or columns) at particular positions in the index\n",
        "#\n",
        "df.iloc[0:10, 11:13].head(10)"
      ],
      "execution_count": 33,
      "outputs": [
        {
          "output_type": "execute_result",
          "data": {
            "text/html": [
              "<div>\n",
              "<style scoped>\n",
              "    .dataframe tbody tr th:only-of-type {\n",
              "        vertical-align: middle;\n",
              "    }\n",
              "\n",
              "    .dataframe tbody tr th {\n",
              "        vertical-align: top;\n",
              "    }\n",
              "\n",
              "    .dataframe thead th {\n",
              "        text-align: right;\n",
              "    }\n",
              "</style>\n",
              "<table border=\"1\" class=\"dataframe\">\n",
              "  <thead>\n",
              "    <tr style=\"text-align: right;\">\n",
              "      <th></th>\n",
              "      <th>boat</th>\n",
              "      <th>body</th>\n",
              "    </tr>\n",
              "  </thead>\n",
              "  <tbody>\n",
              "    <tr>\n",
              "      <th>0</th>\n",
              "      <td>2</td>\n",
              "      <td>NaN</td>\n",
              "    </tr>\n",
              "    <tr>\n",
              "      <th>1</th>\n",
              "      <td>11</td>\n",
              "      <td>NaN</td>\n",
              "    </tr>\n",
              "    <tr>\n",
              "      <th>2</th>\n",
              "      <td>NaN</td>\n",
              "      <td>NaN</td>\n",
              "    </tr>\n",
              "    <tr>\n",
              "      <th>3</th>\n",
              "      <td>NaN</td>\n",
              "      <td>135.0</td>\n",
              "    </tr>\n",
              "    <tr>\n",
              "      <th>4</th>\n",
              "      <td>NaN</td>\n",
              "      <td>NaN</td>\n",
              "    </tr>\n",
              "    <tr>\n",
              "      <th>5</th>\n",
              "      <td>3</td>\n",
              "      <td>NaN</td>\n",
              "    </tr>\n",
              "    <tr>\n",
              "      <th>6</th>\n",
              "      <td>10</td>\n",
              "      <td>NaN</td>\n",
              "    </tr>\n",
              "    <tr>\n",
              "      <th>7</th>\n",
              "      <td>NaN</td>\n",
              "      <td>NaN</td>\n",
              "    </tr>\n",
              "    <tr>\n",
              "      <th>8</th>\n",
              "      <td>D</td>\n",
              "      <td>NaN</td>\n",
              "    </tr>\n",
              "    <tr>\n",
              "      <th>9</th>\n",
              "      <td>NaN</td>\n",
              "      <td>22.0</td>\n",
              "    </tr>\n",
              "  </tbody>\n",
              "</table>\n",
              "</div>"
            ],
            "text/plain": [
              "  boat   body\n",
              "0    2    NaN\n",
              "1   11    NaN\n",
              "2  NaN    NaN\n",
              "3  NaN  135.0\n",
              "4  NaN    NaN\n",
              "5    3    NaN\n",
              "6   10    NaN\n",
              "7  NaN    NaN\n",
              "8    D    NaN\n",
              "9  NaN   22.0"
            ]
          },
          "metadata": {
            "tags": []
          },
          "execution_count": 33
        }
      ]
    },
    {
      "cell_type": "code",
      "metadata": {
        "id": "g7Fti2xIXq1a",
        "colab": {
          "base_uri": "https://localhost:8080/",
          "height": 359
        },
        "outputId": "93708e12-1dd6-4b84-dcbb-8ddba0eb09b2"
      },
      "source": [
        "# Then perform our intepolation\n",
        "#\n",
        "df_interpolate = df.interpolate().iloc[0:10, 11:13];\n",
        "df_interpolate.head(10)"
      ],
      "execution_count": 39,
      "outputs": [
        {
          "output_type": "execute_result",
          "data": {
            "text/html": [
              "<div>\n",
              "<style scoped>\n",
              "    .dataframe tbody tr th:only-of-type {\n",
              "        vertical-align: middle;\n",
              "    }\n",
              "\n",
              "    .dataframe tbody tr th {\n",
              "        vertical-align: top;\n",
              "    }\n",
              "\n",
              "    .dataframe thead th {\n",
              "        text-align: right;\n",
              "    }\n",
              "</style>\n",
              "<table border=\"1\" class=\"dataframe\">\n",
              "  <thead>\n",
              "    <tr style=\"text-align: right;\">\n",
              "      <th></th>\n",
              "      <th>boat</th>\n",
              "      <th>body</th>\n",
              "    </tr>\n",
              "  </thead>\n",
              "  <tbody>\n",
              "    <tr>\n",
              "      <th>0</th>\n",
              "      <td>2</td>\n",
              "      <td>NaN</td>\n",
              "    </tr>\n",
              "    <tr>\n",
              "      <th>1</th>\n",
              "      <td>11</td>\n",
              "      <td>NaN</td>\n",
              "    </tr>\n",
              "    <tr>\n",
              "      <th>2</th>\n",
              "      <td>NaN</td>\n",
              "      <td>NaN</td>\n",
              "    </tr>\n",
              "    <tr>\n",
              "      <th>3</th>\n",
              "      <td>NaN</td>\n",
              "      <td>135.000000</td>\n",
              "    </tr>\n",
              "    <tr>\n",
              "      <th>4</th>\n",
              "      <td>NaN</td>\n",
              "      <td>116.166667</td>\n",
              "    </tr>\n",
              "    <tr>\n",
              "      <th>5</th>\n",
              "      <td>3</td>\n",
              "      <td>97.333333</td>\n",
              "    </tr>\n",
              "    <tr>\n",
              "      <th>6</th>\n",
              "      <td>10</td>\n",
              "      <td>78.500000</td>\n",
              "    </tr>\n",
              "    <tr>\n",
              "      <th>7</th>\n",
              "      <td>NaN</td>\n",
              "      <td>59.666667</td>\n",
              "    </tr>\n",
              "    <tr>\n",
              "      <th>8</th>\n",
              "      <td>D</td>\n",
              "      <td>40.833333</td>\n",
              "    </tr>\n",
              "    <tr>\n",
              "      <th>9</th>\n",
              "      <td>NaN</td>\n",
              "      <td>22.000000</td>\n",
              "    </tr>\n",
              "  </tbody>\n",
              "</table>\n",
              "</div>"
            ],
            "text/plain": [
              "  boat        body\n",
              "0    2         NaN\n",
              "1   11         NaN\n",
              "2  NaN         NaN\n",
              "3  NaN  135.000000\n",
              "4  NaN  116.166667\n",
              "5    3   97.333333\n",
              "6   10   78.500000\n",
              "7  NaN   59.666667\n",
              "8    D   40.833333\n",
              "9  NaN   22.000000"
            ]
          },
          "metadata": {
            "tags": []
          },
          "execution_count": 39
        }
      ]
    },
    {
      "cell_type": "code",
      "metadata": {
        "id": "nQnIJZ_fHf_b"
      },
      "source": [
        "gov_dataset.head(20)"
      ],
      "execution_count": null,
      "outputs": []
    },
    {
      "cell_type": "code",
      "metadata": {
        "id": "8fESIpX-kRfF",
        "colab": {
          "base_uri": "https://localhost:8080/",
          "height": 342
        },
        "outputId": "33d01860-b95d-4f07-db70-92f160263b62"
      },
      "source": [
        "# Challenge 12: Government Project Dataset\n",
        "# Intepolate the missing values in our dataset, noting the changes\n",
        "#\n",
        "gov_interpolate=gov_dataset.interpolate().iloc[0:10, 11:13];\n",
        "gov_interpolate"
      ],
      "execution_count": 36,
      "outputs": [
        {
          "output_type": "execute_result",
          "data": {
            "text/html": [
              "<div>\n",
              "<style scoped>\n",
              "    .dataframe tbody tr th:only-of-type {\n",
              "        vertical-align: middle;\n",
              "    }\n",
              "\n",
              "    .dataframe tbody tr th {\n",
              "        vertical-align: top;\n",
              "    }\n",
              "\n",
              "    .dataframe thead th {\n",
              "        text-align: right;\n",
              "    }\n",
              "</style>\n",
              "<table border=\"1\" class=\"dataframe\">\n",
              "  <thead>\n",
              "    <tr style=\"text-align: right;\">\n",
              "      <th></th>\n",
              "    </tr>\n",
              "  </thead>\n",
              "  <tbody>\n",
              "    <tr>\n",
              "      <th>0</th>\n",
              "    </tr>\n",
              "    <tr>\n",
              "      <th>1</th>\n",
              "    </tr>\n",
              "    <tr>\n",
              "      <th>2</th>\n",
              "    </tr>\n",
              "    <tr>\n",
              "      <th>3</th>\n",
              "    </tr>\n",
              "    <tr>\n",
              "      <th>4</th>\n",
              "    </tr>\n",
              "    <tr>\n",
              "      <th>5</th>\n",
              "    </tr>\n",
              "    <tr>\n",
              "      <th>6</th>\n",
              "    </tr>\n",
              "    <tr>\n",
              "      <th>7</th>\n",
              "    </tr>\n",
              "    <tr>\n",
              "      <th>8</th>\n",
              "    </tr>\n",
              "    <tr>\n",
              "      <th>9</th>\n",
              "    </tr>\n",
              "  </tbody>\n",
              "</table>\n",
              "</div>"
            ],
            "text/plain": [
              "Empty DataFrame\n",
              "Columns: []\n",
              "Index: [0, 1, 2, 3, 4, 5, 6, 7, 8, 9]"
            ]
          },
          "metadata": {
            "tags": []
          },
          "execution_count": 36
        }
      ]
    },
    {
      "cell_type": "markdown",
      "metadata": {
        "id": "7g7vkwiwlPNE"
      },
      "source": [
        "**Challenge 13: **Together with your peer discuss the cases where you might use the above interpolate technique."
      ]
    },
    {
      "cell_type": "markdown",
      "metadata": {
        "id": "Zohn05Kl37a3"
      },
      "source": [
        "### e) We can drop/delete missing values"
      ]
    },
    {
      "cell_type": "markdown",
      "metadata": {
        "id": "kiRRtN2NZxHm"
      },
      "source": [
        "The other way to work with missing data is to drop/delete the records with the missing data. This is a judgement that you have to make based on your research. Sometimes keeping the entire dataset together with the missing values, can leave you with a useless dataset. On the other hand, the missing data many not be random and dropping those missing values would leave you with a biased dataset or deleting the missing dataset might leave you with insufficient data for analysis. All of this we will learn more indepth during the course of the program. \n",
        "\n",
        "For now lets see how we can drop missing values from a dataset."
      ]
    },
    {
      "cell_type": "code",
      "metadata": {
        "id": "HvKBpbSVZq3X",
        "colab": {
          "base_uri": "https://localhost:8080/"
        },
        "outputId": "cc95b3e9-2f99-4ce7-cfdb-790897264de2"
      },
      "source": [
        "# Let's find out the size of our dataset\n",
        "# \n",
        "df.shape"
      ],
      "execution_count": 40,
      "outputs": [
        {
          "output_type": "execute_result",
          "data": {
            "text/plain": [
              "(1310, 14)"
            ]
          },
          "metadata": {
            "tags": []
          },
          "execution_count": 40
        }
      ]
    },
    {
      "cell_type": "code",
      "metadata": {
        "id": "TzPYCUtddJJn",
        "colab": {
          "base_uri": "https://localhost:8080/"
        },
        "outputId": "54a69bca-7aaa-4ded-fde0-210921274087"
      },
      "source": [
        "# If we were to keep our complete rows; meaning we drop any record with a missing value, then\n",
        "#\n",
        "df_dropped = df.dropna()\n",
        "df_dropped\n",
        "# We are left with no rows of data\n",
        "#\n",
        "df_dropped.shape"
      ],
      "execution_count": 44,
      "outputs": [
        {
          "output_type": "execute_result",
          "data": {
            "text/plain": [
              "(0, 14)"
            ]
          },
          "metadata": {
            "tags": []
          },
          "execution_count": 44
        }
      ]
    },
    {
      "cell_type": "code",
      "metadata": {
        "id": "AOZ80EPSdzGI"
      },
      "source": [
        "# Printing out df_dropped\n",
        "df_dropped"
      ],
      "execution_count": null,
      "outputs": []
    },
    {
      "cell_type": "code",
      "metadata": {
        "id": "zAazAAGHgFkP"
      },
      "source": [
        "# Challenge 14: Financial Allocation Dataset\n",
        "# Let's now drop the records that have missing values\n",
        "# url = http://bit.ly/MSFinancialDataset\n",
        "#\n",
        "url = \"http://bit.ly/MSFinancialDataset\"\n",
        "url_df=pd.read_csv(url)\n",
        "url_df"
      ],
      "execution_count": null,
      "outputs": []
    },
    {
      "cell_type": "code",
      "metadata": {
        "id": "fRfVfRo1JQfu"
      },
      "source": [
        "#count non missing values\n",
        "url_df.count"
      ],
      "execution_count": null,
      "outputs": []
    },
    {
      "cell_type": "code",
      "metadata": {
        "colab": {
          "base_uri": "https://localhost:8080/"
        },
        "id": "rjpHJ7fRJ30l",
        "outputId": "8f69a277-177e-45c4-a14d-10fd25cce14b"
      },
      "source": [
        "url_df.shape"
      ],
      "execution_count": 52,
      "outputs": [
        {
          "output_type": "execute_result",
          "data": {
            "text/plain": [
              "(26, 18)"
            ]
          },
          "metadata": {
            "tags": []
          },
          "execution_count": 52
        }
      ]
    },
    {
      "cell_type": "code",
      "metadata": {
        "id": "TGtBuC6TJfTB"
      },
      "source": [
        "url_df_dropping=url_df.dropna()\n",
        "url_df_dropping"
      ],
      "execution_count": null,
      "outputs": []
    },
    {
      "cell_type": "code",
      "metadata": {
        "colab": {
          "base_uri": "https://localhost:8080/"
        },
        "id": "ZX5yurMhJ8le",
        "outputId": "2396d2d0-9512-420f-994a-0bd1f0c38336"
      },
      "source": [
        "url_df_dropping.shape"
      ],
      "execution_count": 54,
      "outputs": [
        {
          "output_type": "execute_result",
          "data": {
            "text/plain": [
              "(16, 18)"
            ]
          },
          "metadata": {
            "tags": []
          },
          "execution_count": 54
        }
      ]
    },
    {
      "cell_type": "code",
      "metadata": {
        "id": "NwoeOH_SJ8ip"
      },
      "source": [
        ""
      ],
      "execution_count": null,
      "outputs": []
    },
    {
      "cell_type": "markdown",
      "metadata": {
        "id": "h5AGA9relVMf"
      },
      "source": [
        "Challenge 15: Together with your peer discuss the cases where you might use the above drop/delete technique."
      ]
    }
  ]
}