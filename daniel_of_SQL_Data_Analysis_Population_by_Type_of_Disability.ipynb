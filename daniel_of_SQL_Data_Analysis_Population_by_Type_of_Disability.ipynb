{
  "nbformat": 4,
  "nbformat_minor": 0,
  "metadata": {
    "colab": {
      "name": "daniel of SQL Data Analysis: Population by Type of Disability",
      "provenance": [],
      "collapsed_sections": [],
      "include_colab_link": true
    },
    "kernelspec": {
      "name": "python3",
      "display_name": "Python 3"
    }
  },
  "cells": [
    {
      "cell_type": "markdown",
      "metadata": {
        "id": "view-in-github",
        "colab_type": "text"
      },
      "source": [
        "<a href=\"https://colab.research.google.com/github/12345997/projecto/blob/main/daniel_of_SQL_Data_Analysis_Population_by_Type_of_Disability.ipynb\" target=\"_parent\"><img src=\"https://colab.research.google.com/assets/colab-badge.svg\" alt=\"Open In Colab\"/></a>"
      ]
    },
    {
      "cell_type": "markdown",
      "metadata": {
        "id": "v10LL6vuBqBk"
      },
      "source": [
        "<font color=\"green\">*To start working on this notebook, or any other notebook that we will use in the Moringa Data Science Course, we will need to save our own copy of it. We can do this by clicking File > Save a Copy in Drive. We will then be able to make edits to our own copy of this notebook.*</font>"
      ]
    },
    {
      "cell_type": "markdown",
      "metadata": {
        "id": "m0tgCkvzPLEa"
      },
      "source": [
        "# SQL Data Analysis: Population by Type of Disability"
      ]
    },
    {
      "cell_type": "markdown",
      "metadata": {
        "id": "VSnOCZ5-IPCi"
      },
      "source": [
        "## 1.0 Connecting to our Database"
      ]
    },
    {
      "cell_type": "code",
      "metadata": {
        "id": "3r-KDLvrO44a",
        "colab": {
          "base_uri": "https://localhost:8080/",
          "height": 35
        },
        "outputId": "56d7d764-a9e4-46f1-a07c-554ac7f3fbce"
      },
      "source": [
        "# We will first load the sql extension into our environment\n",
        "%load_ext sql\n",
        "\n",
        "# Then connect to our in memory sqlite database\n",
        "# NB: This database will cease to exist as soon as the database connection is closed. \n",
        "%sql sqlite://"
      ],
      "execution_count": 1,
      "outputs": [
        {
          "output_type": "execute_result",
          "data": {
            "application/vnd.google.colaboratory.intrinsic+json": {
              "type": "string"
            },
            "text/plain": [
              "'Connected: @None'"
            ]
          },
          "metadata": {
            "tags": []
          },
          "execution_count": 1
        }
      ]
    },
    {
      "cell_type": "markdown",
      "metadata": {
        "id": "HToJZ2gBPawZ"
      },
      "source": [
        "## 1.1 Importing Data from CSV files"
      ]
    },
    {
      "cell_type": "code",
      "metadata": {
        "id": "1acwmZanRNHs"
      },
      "source": [
        "# Importing the pandas library\n",
        "# We will use a function read_csv from pandas to read our datasets as shown\n",
        "#\n",
        "import pandas as pd "
      ],
      "execution_count": 2,
      "outputs": []
    },
    {
      "cell_type": "code",
      "metadata": {
        "id": "RmreyLDJADqk",
        "colab": {
          "base_uri": "https://localhost:8080/",
          "height": 230
        },
        "outputId": "18ad5ccf-57e6-4246-f99c-3e6d7e14e880"
      },
      "source": [
        "# Loading our table from the respective CSV files\n",
        "# We will export the dataset that we have cleaned using python\n",
        "#\n",
        "with open('population_dataset.csv','r') as f:\n",
        "    population_dataset = pd.read_csv(f, index_col=0, encoding='utf-8')\n",
        "%sql DROP TABLE if EXISTS population_dataset;\n",
        "%sql PERSIST population_dataset;\n",
        "%sql SELECT * FROM population_dataset LIMIT 5;"
      ],
      "execution_count": 3,
      "outputs": [
        {
          "output_type": "stream",
          "text": [
            " * sqlite://\n",
            "Done.\n",
            " * sqlite://\n",
            " * sqlite://\n",
            "Done.\n"
          ],
          "name": "stdout"
        },
        {
          "output_type": "execute_result",
          "data": {
            "text/html": [
              "<table>\n",
              "    <thead>\n",
              "        <tr>\n",
              "            <th>index</th>\n",
              "            <th>County</th>\n",
              "            <th>Missing_Hand</th>\n",
              "            <th>Missing_Foot</th>\n",
              "            <th>Lame</th>\n",
              "            <th>Blind</th>\n",
              "            <th>Deaf</th>\n",
              "            <th>Dumb</th>\n",
              "            <th>Mental</th>\n",
              "            <th>Paralyzed</th>\n",
              "            <th>Other</th>\n",
              "            <th>Total_Count</th>\n",
              "        </tr>\n",
              "    </thead>\n",
              "    <tbody>\n",
              "        <tr>\n",
              "            <td>0</td>\n",
              "            <td>Baringo</td>\n",
              "            <td>10.9%</td>\n",
              "            <td>2.8%</td>\n",
              "            <td>30.9%</td>\n",
              "            <td>2.6%</td>\n",
              "            <td>1%</td>\n",
              "            <td>3.8%</td>\n",
              "            <td>12.4%</td>\n",
              "            <td>54.2%</td>\n",
              "            <td>10.9%</td>\n",
              "            <td>6512.1</td>\n",
              "        </tr>\n",
              "        <tr>\n",
              "            <td>1</td>\n",
              "            <td>Bomet</td>\n",
              "            <td>0%</td>\n",
              "            <td>0%</td>\n",
              "            <td>29.2%</td>\n",
              "            <td>10%</td>\n",
              "            <td>8.1%</td>\n",
              "            <td>8.1%</td>\n",
              "            <td>14.2%</td>\n",
              "            <td>0.3%</td>\n",
              "            <td>38.7%</td>\n",
              "            <td>6538.0</td>\n",
              "        </tr>\n",
              "        <tr>\n",
              "            <td>2</td>\n",
              "            <td>Bungoma</td>\n",
              "            <td>12.3%</td>\n",
              "            <td>0%</td>\n",
              "            <td>49.2%</td>\n",
              "            <td>0%</td>\n",
              "            <td>2.3%</td>\n",
              "            <td>20.8%</td>\n",
              "            <td>12.7%</td>\n",
              "            <td>0%</td>\n",
              "            <td>21.9%</td>\n",
              "            <td>13170.6</td>\n",
              "        </tr>\n",
              "        <tr>\n",
              "            <td>3</td>\n",
              "            <td>Busia</td>\n",
              "            <td>0%</td>\n",
              "            <td>0%</td>\n",
              "            <td>14.3%</td>\n",
              "            <td>12.3%</td>\n",
              "            <td>4.6%</td>\n",
              "            <td>35.5%</td>\n",
              "            <td>4.8%</td>\n",
              "            <td>14.8%</td>\n",
              "            <td>31.4%</td>\n",
              "            <td>6655.5</td>\n",
              "        </tr>\n",
              "        <tr>\n",
              "            <td>4</td>\n",
              "            <td>Elgeyo Marakwet</td>\n",
              "            <td>0%</td>\n",
              "            <td>0%</td>\n",
              "            <td>31.7%</td>\n",
              "            <td>0%</td>\n",
              "            <td>35.7%</td>\n",
              "            <td>0%</td>\n",
              "            <td>20%</td>\n",
              "            <td>12.6%</td>\n",
              "            <td>7.4%</td>\n",
              "            <td>3599.9</td>\n",
              "        </tr>\n",
              "    </tbody>\n",
              "</table>"
            ],
            "text/plain": [
              "[(0, 'Baringo', '10.9%', '2.8%', '30.9%', '2.6%', '1%', '3.8%', '12.4%', '54.2%', '10.9%', 6512.1),\n",
              " (1, 'Bomet', '0%', '0%', '29.2%', '10%', '8.1%', '8.1%', '14.2%', '0.3%', '38.7%', 6538.0),\n",
              " (2, 'Bungoma', '12.3%', '0%', '49.2%', '0%', '2.3%', '20.8%', '12.7%', '0%', '21.9%', 13170.6),\n",
              " (3, 'Busia', '0%', '0%', '14.3%', '12.3%', '4.6%', '35.5%', '4.8%', '14.8%', '31.4%', 6655.5),\n",
              " (4, 'Elgeyo Marakwet', '0%', '0%', '31.7%', '0%', '35.7%', '0%', '20%', '12.6%', '7.4%', 3599.9)]"
            ]
          },
          "metadata": {
            "tags": []
          },
          "execution_count": 3
        }
      ]
    },
    {
      "cell_type": "markdown",
      "metadata": {
        "id": "IICLGbvBRYHq"
      },
      "source": [
        "## 1.2 Previewing our Dataset\n"
      ]
    },
    {
      "cell_type": "code",
      "metadata": {
        "id": "WrwHg-hzR5BY",
        "colab": {
          "base_uri": "https://localhost:8080/",
          "height": 284
        },
        "outputId": "221e73f6-9b57-418e-bf9b-fb0432116ff5"
      },
      "source": [
        "# Let's preview the first 10 rows of our data\n",
        "# \n",
        "%%sql\n",
        "SELECT * FROM population_dataset LIMIT 10;"
      ],
      "execution_count": 4,
      "outputs": [
        {
          "output_type": "stream",
          "text": [
            " * sqlite://\n",
            "Done.\n"
          ],
          "name": "stdout"
        },
        {
          "output_type": "execute_result",
          "data": {
            "text/html": [
              "<table>\n",
              "    <thead>\n",
              "        <tr>\n",
              "            <th>index</th>\n",
              "            <th>County</th>\n",
              "            <th>Missing_Hand</th>\n",
              "            <th>Missing_Foot</th>\n",
              "            <th>Lame</th>\n",
              "            <th>Blind</th>\n",
              "            <th>Deaf</th>\n",
              "            <th>Dumb</th>\n",
              "            <th>Mental</th>\n",
              "            <th>Paralyzed</th>\n",
              "            <th>Other</th>\n",
              "            <th>Total_Count</th>\n",
              "        </tr>\n",
              "    </thead>\n",
              "    <tbody>\n",
              "        <tr>\n",
              "            <td>0</td>\n",
              "            <td>Baringo</td>\n",
              "            <td>10.9%</td>\n",
              "            <td>2.8%</td>\n",
              "            <td>30.9%</td>\n",
              "            <td>2.6%</td>\n",
              "            <td>1%</td>\n",
              "            <td>3.8%</td>\n",
              "            <td>12.4%</td>\n",
              "            <td>54.2%</td>\n",
              "            <td>10.9%</td>\n",
              "            <td>6512.1</td>\n",
              "        </tr>\n",
              "        <tr>\n",
              "            <td>1</td>\n",
              "            <td>Bomet</td>\n",
              "            <td>0%</td>\n",
              "            <td>0%</td>\n",
              "            <td>29.2%</td>\n",
              "            <td>10%</td>\n",
              "            <td>8.1%</td>\n",
              "            <td>8.1%</td>\n",
              "            <td>14.2%</td>\n",
              "            <td>0.3%</td>\n",
              "            <td>38.7%</td>\n",
              "            <td>6538.0</td>\n",
              "        </tr>\n",
              "        <tr>\n",
              "            <td>2</td>\n",
              "            <td>Bungoma</td>\n",
              "            <td>12.3%</td>\n",
              "            <td>0%</td>\n",
              "            <td>49.2%</td>\n",
              "            <td>0%</td>\n",
              "            <td>2.3%</td>\n",
              "            <td>20.8%</td>\n",
              "            <td>12.7%</td>\n",
              "            <td>0%</td>\n",
              "            <td>21.9%</td>\n",
              "            <td>13170.6</td>\n",
              "        </tr>\n",
              "        <tr>\n",
              "            <td>3</td>\n",
              "            <td>Busia</td>\n",
              "            <td>0%</td>\n",
              "            <td>0%</td>\n",
              "            <td>14.3%</td>\n",
              "            <td>12.3%</td>\n",
              "            <td>4.6%</td>\n",
              "            <td>35.5%</td>\n",
              "            <td>4.8%</td>\n",
              "            <td>14.8%</td>\n",
              "            <td>31.4%</td>\n",
              "            <td>6655.5</td>\n",
              "        </tr>\n",
              "        <tr>\n",
              "            <td>4</td>\n",
              "            <td>Elgeyo Marakwet</td>\n",
              "            <td>0%</td>\n",
              "            <td>0%</td>\n",
              "            <td>31.7%</td>\n",
              "            <td>0%</td>\n",
              "            <td>35.7%</td>\n",
              "            <td>0%</td>\n",
              "            <td>20%</td>\n",
              "            <td>12.6%</td>\n",
              "            <td>7.4%</td>\n",
              "            <td>3599.9</td>\n",
              "        </tr>\n",
              "        <tr>\n",
              "            <td>5</td>\n",
              "            <td>Embu</td>\n",
              "            <td>0%</td>\n",
              "            <td>0%</td>\n",
              "            <td>55.1%</td>\n",
              "            <td>0%</td>\n",
              "            <td>0%</td>\n",
              "            <td>3%</td>\n",
              "            <td>3%</td>\n",
              "            <td>2.5%</td>\n",
              "            <td>41.8%</td>\n",
              "            <td>6287.4</td>\n",
              "        </tr>\n",
              "        <tr>\n",
              "            <td>6</td>\n",
              "            <td>Garissa</td>\n",
              "            <td>0%</td>\n",
              "            <td>37.1%</td>\n",
              "            <td>0%</td>\n",
              "            <td>0%</td>\n",
              "            <td>0%</td>\n",
              "            <td>0%</td>\n",
              "            <td>11.3%</td>\n",
              "            <td>11.3%</td>\n",
              "            <td>51.6%</td>\n",
              "            <td>1864.1</td>\n",
              "        </tr>\n",
              "        <tr>\n",
              "            <td>7</td>\n",
              "            <td>Homa Bay</td>\n",
              "            <td>2.1%</td>\n",
              "            <td>0%</td>\n",
              "            <td>20.9%</td>\n",
              "            <td>6.7%</td>\n",
              "            <td>6.3%</td>\n",
              "            <td>5.2%</td>\n",
              "            <td>11.3%</td>\n",
              "            <td>9%</td>\n",
              "            <td>48.3%</td>\n",
              "            <td>23696.8</td>\n",
              "        </tr>\n",
              "        <tr>\n",
              "            <td>8</td>\n",
              "            <td>Isiolo</td>\n",
              "            <td>13.9%</td>\n",
              "            <td>3.3%</td>\n",
              "            <td>32.6%</td>\n",
              "            <td>38.6%</td>\n",
              "            <td>12.9%</td>\n",
              "            <td>0%</td>\n",
              "            <td>0%</td>\n",
              "            <td>2%</td>\n",
              "            <td>19.8%</td>\n",
              "            <td>2154.4</td>\n",
              "        </tr>\n",
              "        <tr>\n",
              "            <td>9</td>\n",
              "            <td>Kajiado</td>\n",
              "            <td>0%</td>\n",
              "            <td>0%</td>\n",
              "            <td>26.9%</td>\n",
              "            <td>19%</td>\n",
              "            <td>0%</td>\n",
              "            <td>0%</td>\n",
              "            <td>27.6%</td>\n",
              "            <td>0%</td>\n",
              "            <td>45.5%</td>\n",
              "            <td>3250.3</td>\n",
              "        </tr>\n",
              "    </tbody>\n",
              "</table>"
            ],
            "text/plain": [
              "[(0, 'Baringo', '10.9%', '2.8%', '30.9%', '2.6%', '1%', '3.8%', '12.4%', '54.2%', '10.9%', 6512.1),\n",
              " (1, 'Bomet', '0%', '0%', '29.2%', '10%', '8.1%', '8.1%', '14.2%', '0.3%', '38.7%', 6538.0),\n",
              " (2, 'Bungoma', '12.3%', '0%', '49.2%', '0%', '2.3%', '20.8%', '12.7%', '0%', '21.9%', 13170.6),\n",
              " (3, 'Busia', '0%', '0%', '14.3%', '12.3%', '4.6%', '35.5%', '4.8%', '14.8%', '31.4%', 6655.5),\n",
              " (4, 'Elgeyo Marakwet', '0%', '0%', '31.7%', '0%', '35.7%', '0%', '20%', '12.6%', '7.4%', 3599.9),\n",
              " (5, 'Embu', '0%', '0%', '55.1%', '0%', '0%', '3%', '3%', '2.5%', '41.8%', 6287.4),\n",
              " (6, 'Garissa', '0%', '37.1%', '0%', '0%', '0%', '0%', '11.3%', '11.3%', '51.6%', 1864.1),\n",
              " (7, 'Homa Bay', '2.1%', '0%', '20.9%', '6.7%', '6.3%', '5.2%', '11.3%', '9%', '48.3%', 23696.8),\n",
              " (8, 'Isiolo', '13.9%', '3.3%', '32.6%', '38.6%', '12.9%', '0%', '0%', '2%', '19.8%', 2154.4),\n",
              " (9, 'Kajiado', '0%', '0%', '26.9%', '19%', '0%', '0%', '27.6%', '0%', '45.5%', 3250.3)]"
            ]
          },
          "metadata": {
            "tags": []
          },
          "execution_count": 4
        }
      ]
    },
    {
      "cell_type": "markdown",
      "metadata": {
        "id": "RAVzK5O6IR8v"
      },
      "source": [
        "## 1.3 Accessing Information about our Dataset"
      ]
    },
    {
      "cell_type": "code",
      "metadata": {
        "id": "0d2kfemDIYWI",
        "colab": {
          "base_uri": "https://localhost:8080/"
        },
        "outputId": "a78c74e0-8970-4dc1-a00f-cfec553d9b0a"
      },
      "source": [
        "# Getting to know more about the dataset by accessing its information\n",
        "#\n",
        "population_dataset.info()"
      ],
      "execution_count": 5,
      "outputs": [
        {
          "output_type": "stream",
          "text": [
            "<class 'pandas.core.frame.DataFrame'>\n",
            "Int64Index: 48 entries, 0 to 47\n",
            "Data columns (total 11 columns):\n",
            " #   Column        Non-Null Count  Dtype  \n",
            "---  ------        --------------  -----  \n",
            " 0   County        48 non-null     object \n",
            " 1   Missing_Hand  48 non-null     object \n",
            " 2   Missing_Foot  48 non-null     object \n",
            " 3   Lame          48 non-null     object \n",
            " 4   Blind         48 non-null     object \n",
            " 5   Deaf          48 non-null     object \n",
            " 6   Dumb          48 non-null     object \n",
            " 7   Mental        48 non-null     object \n",
            " 8   Paralyzed     48 non-null     object \n",
            " 9   Other         48 non-null     object \n",
            " 10  Total_Count   48 non-null     float64\n",
            "dtypes: float64(1), object(10)\n",
            "memory usage: 4.5+ KB\n"
          ],
          "name": "stdout"
        }
      ]
    },
    {
      "cell_type": "markdown",
      "metadata": {
        "id": "NicC8P9LMjvO"
      },
      "source": [
        "## 1.5 Answering Questions"
      ]
    },
    {
      "cell_type": "markdown",
      "metadata": {
        "id": "8izhaW7UNYGJ"
      },
      "source": [
        "Let's answer the following questions with our dataset. These are the same questions we answered using the python programming language. "
      ]
    },
    {
      "cell_type": "code",
      "metadata": {
        "id": "tTOgnXvuMxcn",
        "colab": {
          "base_uri": "https://localhost:8080/",
          "height": 95
        },
        "outputId": "8c0ca3b3-e507-4a42-f221-d8a10ef0c8dd"
      },
      "source": [
        "# Challenge 1\n",
        "# Which county had the highest no. of registered deaf persons?\n",
        "# \n",
        "%%sql\n",
        "SELECT County, max(\"Deaf\")\n",
        "FROM population_dataset"
      ],
      "execution_count": 9,
      "outputs": [
        {
          "output_type": "stream",
          "text": [
            " * sqlite://\n",
            "Done.\n"
          ],
          "name": "stdout"
        },
        {
          "output_type": "execute_result",
          "data": {
            "text/html": [
              "<table>\n",
              "    <thead>\n",
              "        <tr>\n",
              "            <th>County</th>\n",
              "            <th>max(&quot;Deaf&quot;)</th>\n",
              "        </tr>\n",
              "    </thead>\n",
              "    <tbody>\n",
              "        <tr>\n",
              "            <td>Nandi</td>\n",
              "            <td>9.1%</td>\n",
              "        </tr>\n",
              "    </tbody>\n",
              "</table>"
            ],
            "text/plain": [
              "[('Nandi', '9.1%')]"
            ]
          },
          "metadata": {
            "tags": []
          },
          "execution_count": 9
        }
      ]
    },
    {
      "cell_type": "code",
      "metadata": {
        "id": "BNegesaWNvQs",
        "colab": {
          "base_uri": "https://localhost:8080/",
          "height": 95
        },
        "outputId": "a71f1eab-8506-4d71-a7c8-a8c368cc18bd"
      },
      "source": [
        "# Challenge 2\n",
        "# Which county had the highest no. of registered persons with a missing hand?\n",
        "#\n",
        "%%sql\n",
        "SELECT County, max(\"Missing_hand\") FROM population_dataset"
      ],
      "execution_count": 10,
      "outputs": [
        {
          "output_type": "stream",
          "text": [
            " * sqlite://\n",
            "Done.\n"
          ],
          "name": "stdout"
        },
        {
          "output_type": "execute_result",
          "data": {
            "text/html": [
              "<table>\n",
              "    <thead>\n",
              "        <tr>\n",
              "            <th>County</th>\n",
              "            <th>max(&quot;Missing_hand&quot;)</th>\n",
              "        </tr>\n",
              "    </thead>\n",
              "    <tbody>\n",
              "        <tr>\n",
              "            <td>Kisumu</td>\n",
              "            <td>7.6%</td>\n",
              "        </tr>\n",
              "    </tbody>\n",
              "</table>"
            ],
            "text/plain": [
              "[('Kisumu', '7.6%')]"
            ]
          },
          "metadata": {
            "tags": []
          },
          "execution_count": 10
        }
      ]
    },
    {
      "cell_type": "code",
      "metadata": {
        "id": "7tilTerhNyiP"
      },
      "source": [
        "# Challenge 3\n",
        "# Which county had the highest no. of registered persons with a missing foot?\n",
        "# \n",
        "\n",
        "%%sql\n",
        "SELECT County, Max(\"Missing_foot\") FROM population_dataset"
      ],
      "execution_count": null,
      "outputs": []
    },
    {
      "cell_type": "code",
      "metadata": {
        "id": "rhXeHa6IOBsq",
        "colab": {
          "base_uri": "https://localhost:8080/",
          "height": 95
        },
        "outputId": "f0fa47f4-9809-4cbd-f7a3-21278fcca789"
      },
      "source": [
        "# Challenge 4\n",
        "# Which county had the highest no. of registered lame persons?\n",
        "# \n",
        "\n",
        "%%sql\n",
        "SELECT County, max(\"Lame\") FROM population_dataset"
      ],
      "execution_count": 14,
      "outputs": [
        {
          "output_type": "stream",
          "text": [
            " * sqlite://\n",
            "Done.\n"
          ],
          "name": "stdout"
        },
        {
          "output_type": "execute_result",
          "data": {
            "text/html": [
              "<table>\n",
              "    <thead>\n",
              "        <tr>\n",
              "            <th>County</th>\n",
              "            <th>max(&quot;Lame&quot;)</th>\n",
              "        </tr>\n",
              "    </thead>\n",
              "    <tbody>\n",
              "        <tr>\n",
              "            <td>Mombasa</td>\n",
              "            <td>9.3%</td>\n",
              "        </tr>\n",
              "    </tbody>\n",
              "</table>"
            ],
            "text/plain": [
              "[('Mombasa', '9.3%')]"
            ]
          },
          "metadata": {
            "tags": []
          },
          "execution_count": 14
        }
      ]
    },
    {
      "cell_type": "code",
      "metadata": {
        "id": "wddDP6yCOD_F",
        "colab": {
          "base_uri": "https://localhost:8080/",
          "height": 95
        },
        "outputId": "7a673276-67bb-4242-a092-8407b03d5e13"
      },
      "source": [
        "# Challenge 5\n",
        "# Which county had the lowest no. of registered blind persons?\n",
        "# \n",
        "\n",
        "%%sql\n",
        "SELECT County, min(\"Blind\") FROM population_dataset"
      ],
      "execution_count": 18,
      "outputs": [
        {
          "output_type": "stream",
          "text": [
            " * sqlite://\n",
            "Done.\n"
          ],
          "name": "stdout"
        },
        {
          "output_type": "execute_result",
          "data": {
            "text/html": [
              "<table>\n",
              "    <thead>\n",
              "        <tr>\n",
              "            <th>County</th>\n",
              "            <th>min(&quot;Blind&quot;)</th>\n",
              "        </tr>\n",
              "    </thead>\n",
              "    <tbody>\n",
              "        <tr>\n",
              "            <td>Bungoma</td>\n",
              "            <td>0%</td>\n",
              "        </tr>\n",
              "    </tbody>\n",
              "</table>"
            ],
            "text/plain": [
              "[('Bungoma', '0%')]"
            ]
          },
          "metadata": {
            "tags": []
          },
          "execution_count": 18
        }
      ]
    },
    {
      "cell_type": "code",
      "metadata": {
        "id": "OemJ0HDYOHCq",
        "colab": {
          "base_uri": "https://localhost:8080/",
          "height": 137
        },
        "outputId": "f239bebb-08ae-4304-a0ac-5f90b2b11d1b"
      },
      "source": [
        "# Challenge 6\n",
        "# Which county had the highest third no. of registered deaf persons?\n",
        "# \n",
        "%%sql\n",
        "SELECT County, Deaf\n",
        "FROM population_dataset\n",
        "ORDER BY Deaf desc LIMIT 3;\n"
      ],
      "execution_count": 44,
      "outputs": [
        {
          "output_type": "stream",
          "text": [
            " * sqlite://\n",
            "Done.\n"
          ],
          "name": "stdout"
        },
        {
          "output_type": "execute_result",
          "data": {
            "text/html": [
              "<table>\n",
              "    <thead>\n",
              "        <tr>\n",
              "            <th>County</th>\n",
              "            <th>Deaf</th>\n",
              "        </tr>\n",
              "    </thead>\n",
              "    <tbody>\n",
              "        <tr>\n",
              "            <td>Nandi</td>\n",
              "            <td>9.1%</td>\n",
              "        </tr>\n",
              "        <tr>\n",
              "            <td>Bomet</td>\n",
              "            <td>8.1%</td>\n",
              "        </tr>\n",
              "        <tr>\n",
              "            <td>Wajir</td>\n",
              "            <td>8%</td>\n",
              "        </tr>\n",
              "    </tbody>\n",
              "</table>"
            ],
            "text/plain": [
              "[('Nandi', '9.1%'), ('Bomet', '8.1%'), ('Wajir', '8%')]"
            ]
          },
          "metadata": {
            "tags": []
          },
          "execution_count": 44
        }
      ]
    },
    {
      "cell_type": "code",
      "metadata": {
        "id": "CIxC5arSOLak"
      },
      "source": [
        "# Challenge 7\n",
        "# In descending order, which top 5 counties had the highest no. of registered dumb persons?\n",
        "# \n",
        "OUR CODE GOES HERE"
      ],
      "execution_count": null,
      "outputs": []
    },
    {
      "cell_type": "code",
      "metadata": {
        "id": "gSjjnw56OP8O"
      },
      "source": [
        "# Challenge 8\n",
        "# In ascending order, which top 5 counties had the highest no. of registered persons with a mental disability? \n",
        "# \n",
        "OUR CODE GOES HERE"
      ],
      "execution_count": null,
      "outputs": []
    },
    {
      "cell_type": "code",
      "metadata": {
        "id": "UZLYqF7UOTtu",
        "colab": {
          "base_uri": "https://localhost:8080/",
          "height": 95
        },
        "outputId": "7bbc83c5-02c3-4b9f-f39b-c8ef9cf0c8fa"
      },
      "source": [
        "# Challenge 9\n",
        "# Which counties had no registerd blind persons nor deaf persons?\n",
        "# \n",
        "%%sql\n",
        "SELECT County, MIN(\"Deaf\") FROM population_dataset"
      ],
      "execution_count": 45,
      "outputs": [
        {
          "output_type": "stream",
          "text": [
            " * sqlite://\n",
            "Done.\n"
          ],
          "name": "stdout"
        },
        {
          "output_type": "execute_result",
          "data": {
            "text/html": [
              "<table>\n",
              "    <thead>\n",
              "        <tr>\n",
              "            <th>County</th>\n",
              "            <th>MIN(&quot;Deaf&quot;)</th>\n",
              "        </tr>\n",
              "    </thead>\n",
              "    <tbody>\n",
              "        <tr>\n",
              "            <td>Embu</td>\n",
              "            <td>0%</td>\n",
              "        </tr>\n",
              "    </tbody>\n",
              "</table>"
            ],
            "text/plain": [
              "[('Embu', '0%')]"
            ]
          },
          "metadata": {
            "tags": []
          },
          "execution_count": 45
        }
      ]
    },
    {
      "cell_type": "code",
      "metadata": {
        "id": "1qk8wF3MOXDu"
      },
      "source": [
        "# Challenge 10\n",
        "# Which disability was the most registered across all the counties?\n",
        "# \n",
        "OUR CODE GOES HERE"
      ],
      "execution_count": null,
      "outputs": []
    },
    {
      "cell_type": "code",
      "metadata": {
        "id": "8xkStdjdXS3w"
      },
      "source": [
        "# Challenge 11\n",
        "# Which disability was the least registered across all the counties?\n",
        "#\n",
        "OUR CODE GOES HERE"
      ],
      "execution_count": null,
      "outputs": []
    },
    {
      "cell_type": "code",
      "metadata": {
        "id": "rgVsXH_5XVCh"
      },
      "source": [
        "# Challenge 12\n",
        "# What was the average no. of registered persons with a disability?\n",
        "#\n",
        "OUR CODE GOES HERE"
      ],
      "execution_count": null,
      "outputs": []
    },
    {
      "cell_type": "code",
      "metadata": {
        "id": "XvvFWhuDXXeP"
      },
      "source": [
        "# Challenge 13\n",
        "# Which three counties had least registered persons with disabilities?\n",
        "#\n",
        "OUR CODE GOES HERE"
      ],
      "execution_count": null,
      "outputs": []
    },
    {
      "cell_type": "code",
      "metadata": {
        "id": "q1iq02FuXc2R"
      },
      "source": [
        "# Challenge 14\n",
        "# What was the total no of registered persons with a disability across all counties?\n",
        "#\n",
        "OUR CODE GOES HERE"
      ],
      "execution_count": null,
      "outputs": []
    },
    {
      "cell_type": "code",
      "metadata": {
        "id": "drAWpxBZXhcF"
      },
      "source": [
        "# Challenge 15 \n",
        "# Which top 3 counties has the highest no. of registered persons with a disability?\n",
        "# \n",
        "OUR CODE GOES HERE"
      ],
      "execution_count": null,
      "outputs": []
    }
  ]
}